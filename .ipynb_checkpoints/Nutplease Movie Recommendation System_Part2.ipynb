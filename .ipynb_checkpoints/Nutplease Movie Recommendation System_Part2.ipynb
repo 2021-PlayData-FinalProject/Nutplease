{
 "cells": [
  {
   "cell_type": "markdown",
   "id": "24d8de59",
   "metadata": {
    "id": "GlCUfxDdVjpl"
   },
   "source": [
    "# 📽넷플릭스 대한민국 분석과 시각화 그리고 추천 시스템 구상"
   ]
  },
  {
   "cell_type": "markdown",
   "id": "3ce1c31d",
   "metadata": {
    "id": "AHk_PJqBVjpq"
   },
   "source": [
    "## 목표\n",
    "\n",
    "```\n",
    "1. 데이터 분석(EDA)\n",
    "2. 시각화\n",
    "3. 가공된 모델을 기반으로 사용자 컨텐츠 추천 시스템 구현\n",
    "```"
   ]
  },
  {
   "cell_type": "markdown",
   "id": "99a9561f",
   "metadata": {},
   "source": [
    "## 2. 시각화\n",
    "\n",
    "시각화 작업에 앞서, 기존의 \"matplotlib\", \"seaborn\"과 같은 시각화 도구 외에도 \"Plotly express\"라는 시각화 도구가 존재한다.\n",
    "\n",
    "사용법은 seaborn과 크게 다르지 않기 때문에 개인적으로 이쪽을 권장하고 싶다.\n",
    "\n",
    "설치 방법은 **[Getting Started with Plotly in Python](https://plotly.com/python/getting-started/#jupyterlab-support-python-35)** 에서 설치를 진행하면 된다."
   ]
  },
  {
   "cell_type": "code",
   "execution_count": 1,
   "id": "e46711ff",
   "metadata": {},
   "outputs": [
    {
     "data": {
      "text/html": [
       "        <script type=\"text/javascript\">\n",
       "        window.PlotlyConfig = {MathJaxConfig: 'local'};\n",
       "        if (window.MathJax) {MathJax.Hub.Config({SVG: {font: \"STIX-Web\"}});}\n",
       "        if (typeof require !== 'undefined') {\n",
       "        require.undef(\"plotly\");\n",
       "        requirejs.config({\n",
       "            paths: {\n",
       "                'plotly': ['https://cdn.plot.ly/plotly-latest.min']\n",
       "            }\n",
       "        });\n",
       "        require(['plotly'], function(Plotly) {\n",
       "            window._Plotly = Plotly;\n",
       "        });\n",
       "        }\n",
       "        </script>\n",
       "        "
      ]
     },
     "metadata": {},
     "output_type": "display_data"
    }
   ],
   "source": [
    "import numpy as np\n",
    "import pandas as pd\n",
    "\n",
    "import plotly.express as px\n",
    "import plotly.graph_objects as go\n",
    "import cufflinks as cf\n",
    "cf.go_offline()\n",
    "\n",
    "import seaborn as sns\n",
    "import matplotlib.pyplot as plt\n",
    "%matplotlib inline"
   ]
  },
  {
   "cell_type": "code",
   "execution_count": 2,
   "id": "29fdd41a",
   "metadata": {},
   "outputs": [],
   "source": [
    "netflix_tmdb_merge = pd.read_csv('dataset/netflix_tmdb_merge.csv.zip')"
   ]
  },
  {
   "cell_type": "code",
   "execution_count": 3,
   "id": "c489f259",
   "metadata": {},
   "outputs": [
    {
     "data": {
      "text/html": [
       "<div>\n",
       "<style scoped>\n",
       "    .dataframe tbody tr th:only-of-type {\n",
       "        vertical-align: middle;\n",
       "    }\n",
       "\n",
       "    .dataframe tbody tr th {\n",
       "        vertical-align: top;\n",
       "    }\n",
       "\n",
       "    .dataframe thead th {\n",
       "        text-align: right;\n",
       "    }\n",
       "</style>\n",
       "<table border=\"1\" class=\"dataframe\">\n",
       "  <thead>\n",
       "    <tr style=\"text-align: right;\">\n",
       "      <th></th>\n",
       "      <th>type</th>\n",
       "      <th>title</th>\n",
       "      <th>date_added</th>\n",
       "      <th>rating</th>\n",
       "      <th>duration</th>\n",
       "      <th>genres</th>\n",
       "      <th>movie_id</th>\n",
       "      <th>overview</th>\n",
       "      <th>cast</th>\n",
       "    </tr>\n",
       "  </thead>\n",
       "  <tbody>\n",
       "    <tr>\n",
       "      <th>0</th>\n",
       "      <td>Movie</td>\n",
       "      <td>9</td>\n",
       "      <td>November 16, 2017</td>\n",
       "      <td>PG-13</td>\n",
       "      <td>80 min</td>\n",
       "      <td>['Action', 'Adventure', 'Animation', 'Science ...</td>\n",
       "      <td>12244</td>\n",
       "      <td>When 9 first comes to life, he finds himself i...</td>\n",
       "      <td>['Christopher Plummer', 'Martin Landau', 'John...</td>\n",
       "    </tr>\n",
       "    <tr>\n",
       "      <th>1</th>\n",
       "      <td>Movie</td>\n",
       "      <td>21</td>\n",
       "      <td>January 1, 2020</td>\n",
       "      <td>PG-13</td>\n",
       "      <td>123 min</td>\n",
       "      <td>['Drama', 'Crime']</td>\n",
       "      <td>8065</td>\n",
       "      <td>Ben Campbell is a young, highly intelligent, s...</td>\n",
       "      <td>['Jim Sturgess', 'Kevin Spacey', 'Kate Boswort...</td>\n",
       "    </tr>\n",
       "  </tbody>\n",
       "</table>\n",
       "</div>"
      ],
      "text/plain": [
       "    type title         date_added rating duration  \\\n",
       "0  Movie     9  November 16, 2017  PG-13   80 min   \n",
       "1  Movie    21    January 1, 2020  PG-13  123 min   \n",
       "\n",
       "                                              genres  movie_id  \\\n",
       "0  ['Action', 'Adventure', 'Animation', 'Science ...     12244   \n",
       "1                                 ['Drama', 'Crime']      8065   \n",
       "\n",
       "                                            overview  \\\n",
       "0  When 9 first comes to life, he finds himself i...   \n",
       "1  Ben Campbell is a young, highly intelligent, s...   \n",
       "\n",
       "                                                cast  \n",
       "0  ['Christopher Plummer', 'Martin Landau', 'John...  \n",
       "1  ['Jim Sturgess', 'Kevin Spacey', 'Kate Boswort...  "
      ]
     },
     "execution_count": 3,
     "metadata": {},
     "output_type": "execute_result"
    }
   ],
   "source": [
    "netflix_tmdb_merge.head(2)"
   ]
  },
  {
   "cell_type": "markdown",
   "id": "c7d0f998",
   "metadata": {
    "id": "ZvLqntTfVjpz"
   },
   "source": [
    "### 2.1 넷플릭스 컨텐츠 중 영화와 TV 프로그램이 차지하는 비중\n",
    "\n",
    "먼저 'type' 컬럼의 'Movie' 데이터와 'TV Show' 데이터가 차지하는 비중을 간단하게 시각화해보겠다."
   ]
  },
  {
   "cell_type": "code",
   "execution_count": 4,
   "id": "0e9a43b1",
   "metadata": {},
   "outputs": [
    {
     "data": {
      "text/plain": [
       "<AxesSubplot:title={'center':'넷플릭스 영화 Vs. TV 프로그램'}, xlabel='type', ylabel='count'>"
      ]
     },
     "execution_count": 4,
     "metadata": {},
     "output_type": "execute_result"
    },
    {
     "data": {
      "image/png": "[encoded data removed]",
      "text/plain": [
       "<Figure size 720x432 with 1 Axes>"
      ]
     },
     "metadata": {
      "needs_background": "light"
     },
     "output_type": "display_data"
    }
   ],
   "source": [
    "f, ax = plt.subplots(figsize=(10, 6))\n",
    "ax.set_title('넷플릭스 영화 Vs. TV 프로그램', family='D2Coding', size=20)\n",
    "\n",
    "plt.xkcd()\n",
    "    \n",
    "sns.set(style='whitegrid')\n",
    "sns.countplot(data=netflix_tmdb_merge, x='type', palette='pastel')"
   ]
  },
  {
   "cell_type": "markdown",
   "id": "782d3fb2",
   "metadata": {
    "id": "OQuZSAZ3Vjp0"
   },
   "source": [
    "이 데이터셋에는 TV 프로그램보다는 영화의 비중이 더 많은 것으로 확인되었다.\n",
    "\n",
    "TMDB 데이터셋에는 주로 영화(Movie) 관련 데이터가 많이 존재하기 때문에, 병합(merge)한 이후에는 TV Show 데이터가 차지하는 비중이 상당히 줄었음을 알 수 있다."
   ]
  },
  {
   "cell_type": "markdown",
   "id": "d4c56d34",
   "metadata": {
    "id": "yBrj5EbHKvCj"
   },
   "source": [
    "### 2.2 넷플릭스 컨텐츠 추가 시기 확인"
   ]
  },
  {
   "cell_type": "code",
   "execution_count": 5,
   "id": "8283dbfa",
   "metadata": {
    "colab": {
     "base_uri": "https://localhost:8080/",
     "height": 276
    },
    "executionInfo": {
     "elapsed": 1214,
     "status": "error",
     "timestamp": 1617602887230,
     "user": {
      "displayName": "Kamil Lee",
      "photoUrl": "https://lh3.googleusercontent.com/a-/AOh14GhtVq0rjLCBgtoAYi4HWKjjXq8fzIB4XpPNu6NQbw=s64",
      "userId": "14237530861062268164"
     },
     "user_tz": -540
    },
    "id": "B5tzOQpWVjp1",
    "outputId": "bbcf3e83-49e9-4a56-c948-03d45b73c4d7"
   },
   "outputs": [
    {
     "data": {
      "application/vnd.plotly.v1+json": {
       "config": {
        "plotlyServerURL": "https://plot.ly"
       },
       "data": [
        {
         "coloraxis": "coloraxis",
         "hovertemplate": "month: %{x}<br>year: %{y}<br>Count: %{z}<extra></extra>",
         "name": "0",
         "type": "heatmap",
         "x": [
          "December",
          "November",
          "October",
          "September",
          "August",
          "July",
          "June",
          "May",
          "April",
          "March",
          "February",
          "January"
         ],
         "xaxis": "x",
         "y": [
          "2014",
          "2015",
          "2016",
          "2017",
          "2018",
          "2019",
          "2020",
          "2021"
         ],
         "yaxis": "y",
         "z": [
          [
           0,
           1,
           0,
           0,
           0,
           0,
           0,
           0,
           0,
           0,
           0,
           1
          ],
          [
           1,
           0,
           1,
           1,
           0,
           0,
           0,
           0,
           0,
           0,
           0,
           0
          ],
          [
           4,
           1,
           2,
           0,
           1,
           0,
           0,
           0,
           0,
           1,
           0,
           0
          ],
          [
           0,
           1,
           6,
           2,
           5,
           0,
           1,
           3,
           2,
           3,
           1,
           2
          ],
          [
           10,
           5,
           8,
           9,
           7,
           17,
           4,
           2,
           5,
           3,
           3,
           4
          ],
          [
           18,
           72,
           38,
           17,
           10,
           21,
           13,
           11,
           12,
           16,
           9,
           27
          ],
          [
           13,
           15,
           10,
           23,
           16,
           10,
           7,
           9,
           14,
           7,
           6,
           77
          ],
          [
           0,
           0,
           0,
           0,
           0,
           0,
           0,
           0,
           0,
           0,
           0,
           30
          ]
         ]
        }
       ],
       "layout": {
        "autosize": true,
        "coloraxis": {
         "colorbar": {
          "title": {
           "text": "Count"
          }
         },
         "colorscale": [
          [
           0,
           "#0d0887"
          ],
          [
           0.1111111111111111,
           "#46039f"
          ],
          [
           0.2222222222222222,
           "#7201a8"
          ],
          [
           0.3333333333333333,
           "#9c179e"
          ],
          [
           0.4444444444444444,
           "#bd3786"
          ],
          [
           0.5555555555555556,
           "#d8576b"
          ],
          [
           0.6666666666666666,
           "#ed7953"
          ],
          [
           0.7777777777777778,
           "#fb9f3a"
          ],
          [
           0.8888888888888888,
           "#fdca26"
          ],
          [
           1,
           "#f0f921"
          ]
         ]
        },
        "margin": {
         "t": 60
        },
        "template": {
         "data": {
          "bar": [
           {
            "error_x": {
             "color": "#2a3f5f"
            },
            "error_y": {
             "color": "#2a3f5f"
            },
            "marker": {
             "line": {
              "color": "#E5ECF6",
              "width": 0.5
             }
            },
            "type": "bar"
           }
          ],
          "barpolar": [
           {
            "marker": {
             "line": {
              "color": "#E5ECF6",
              "width": 0.5
             }
            },
            "type": "barpolar"
           }
          ],
          "carpet": [
           {
            "aaxis": {
             "endlinecolor": "#2a3f5f",
             "gridcolor": "white",
             "linecolor": "white",
             "minorgridcolor": "white",
             "startlinecolor": "#2a3f5f"
            },
            "baxis": {
             "endlinecolor": "#2a3f5f",
             "gridcolor": "white",
             "linecolor": "white",
             "minorgridcolor": "white",
             "startlinecolor": "#2a3f5f"
            },
            "type": "carpet"
           }
          ],
          "choropleth": [
           {
            "colorbar": {
             "outlinewidth": 0,
             "ticks": ""
            },
            "type": "choropleth"
           }
          ],
          "contour": [
           {
            "colorbar": {
             "outlinewidth": 0,
             "ticks": ""
            },
            "colorscale": [
             [
              0,
              "#0d0887"
             ],
             [
              0.1111111111111111,
              "#46039f"
             ],
             [
              0.2222222222222222,
              "#7201a8"
             ],
             [
              0.3333333333333333,
              "#9c179e"
             ],
             [
              0.4444444444444444,
              "#bd3786"
             ],
             [
              0.5555555555555556,
              "#d8576b"
             ],
             [
              0.6666666666666666,
              "#ed7953"
             ],
             [
              0.7777777777777778,
              "#fb9f3a"
             ],
             [
              0.8888888888888888,
              "#fdca26"
             ],
             [
              1,
              "#f0f921"
             ]
            ],
            "type": "contour"
           }
          ],
          "contourcarpet": [
           {
            "colorbar": {
             "outlinewidth": 0,
             "ticks": ""
            },
            "type": "contourcarpet"
           }
          ],
          "heatmap": [
           {
            "colorbar": {
             "outlinewidth": 0,
             "ticks": ""
            },
            "colorscale": [
             [
              0,
              "#0d0887"
             ],
             [
              0.1111111111111111,
              "#46039f"
             ],
             [
              0.2222222222222222,
              "#7201a8"
             ],
             [
              0.3333333333333333,
              "#9c179e"
             ],
             [
              0.4444444444444444,
              "#bd3786"
             ],
             [
              0.5555555555555556,
              "#d8576b"
             ],
             [
              0.6666666666666666,
              "#ed7953"
             ],
             [
              0.7777777777777778,
              "#fb9f3a"
             ],
             [
              0.8888888888888888,
              "#fdca26"
             ],
             [
              1,
              "#f0f921"
             ]
            ],
            "type": "heatmap"
           }
          ],
          "heatmapgl": [
           {
            "colorbar": {
             "outlinewidth": 0,
             "ticks": ""
            },
            "colorscale": [
             [
              0,
              "#0d0887"
             ],
             [
              0.1111111111111111,
              "#46039f"
             ],
             [
              0.2222222222222222,
              "#7201a8"
             ],
             [
              0.3333333333333333,
              "#9c179e"
             ],
             [
              0.4444444444444444,
              "#bd3786"
             ],
             [
              0.5555555555555556,
              "#d8576b"
             ],
             [
              0.6666666666666666,
              "#ed7953"
             ],
             [
              0.7777777777777778,
              "#fb9f3a"
             ],
             [
              0.8888888888888888,
              "#fdca26"
             ],
             [
              1,
              "#f0f921"
             ]
            ],
            "type": "heatmapgl"
           }
          ],
          "histogram": [
           {
            "marker": {
             "colorbar": {
              "outlinewidth": 0,
              "ticks": ""
             }
            },
            "type": "histogram"
           }
          ],
          "histogram2d": [
           {
            "colorbar": {
             "outlinewidth": 0,
             "ticks": ""
            },
            "colorscale": [
             [
              0,
              "#0d0887"
             ],
             [
              0.1111111111111111,
              "#46039f"
             ],
             [
              0.2222222222222222,
              "#7201a8"
             ],
             [
              0.3333333333333333,
              "#9c179e"
             ],
             [
              0.4444444444444444,
              "#bd3786"
             ],
             [
              0.5555555555555556,
              "#d8576b"
             ],
             [
              0.6666666666666666,
              "#ed7953"
             ],
             [
              0.7777777777777778,
              "#fb9f3a"
             ],
             [
              0.8888888888888888,
              "#fdca26"
             ],
             [
              1,
              "#f0f921"
             ]
            ],
            "type": "histogram2d"
           }
          ],
          "histogram2dcontour": [
           {
            "colorbar": {
             "outlinewidth": 0,
             "ticks": ""
            },
            "colorscale": [
             [
              0,
              "#0d0887"
             ],
             [
              0.1111111111111111,
              "#46039f"
             ],
             [
              0.2222222222222222,
              "#7201a8"
             ],
             [
              0.3333333333333333,
              "#9c179e"
             ],
             [
              0.4444444444444444,
              "#bd3786"
             ],
             [
              0.5555555555555556,
              "#d8576b"
             ],
             [
              0.6666666666666666,
              "#ed7953"
             ],
             [
              0.7777777777777778,
              "#fb9f3a"
             ],
             [
              0.8888888888888888,
              "#fdca26"
             ],
             [
              1,
              "#f0f921"
             ]
            ],
            "type": "histogram2dcontour"
           }
          ],
          "mesh3d": [
           {
            "colorbar": {
             "outlinewidth": 0,
             "ticks": ""
            },
            "type": "mesh3d"
           }
          ],
          "parcoords": [
           {
            "line": {
             "colorbar": {
              "outlinewidth": 0,
              "ticks": ""
             }
            },
            "type": "parcoords"
           }
          ],
          "pie": [
           {
            "automargin": true,
            "type": "pie"
           }
          ],
          "scatter": [
           {
            "marker": {
             "colorbar": {
              "outlinewidth": 0,
              "ticks": ""
             }
            },
            "type": "scatter"
           }
          ],
          "scatter3d": [
           {
            "line": {
             "colorbar": {
              "outlinewidth": 0,
              "ticks": ""
             }
            },
            "marker": {
             "colorbar": {
              "outlinewidth": 0,
              "ticks": ""
             }
            },
            "type": "scatter3d"
           }
          ],
          "scattercarpet": [
           {
            "marker": {
             "colorbar": {
              "outlinewidth": 0,
              "ticks": ""
             }
            },
            "type": "scattercarpet"
           }
          ],
          "scattergeo": [
           {
            "marker": {
             "colorbar": {
              "outlinewidth": 0,
              "ticks": ""
             }
            },
            "type": "scattergeo"
           }
          ],
          "scattergl": [
           {
            "marker": {
             "colorbar": {
              "outlinewidth": 0,
              "ticks": ""
             }
            },
            "type": "scattergl"
           }
          ],
          "scattermapbox": [
           {
            "marker": {
             "colorbar": {
              "outlinewidth": 0,
              "ticks": ""
             }
            },
            "type": "scattermapbox"
           }
          ],
          "scatterpolar": [
           {
            "marker": {
             "colorbar": {
              "outlinewidth": 0,
              "ticks": ""
             }
            },
            "type": "scatterpolar"
           }
          ],
          "scatterpolargl": [
           {
            "marker": {
             "colorbar": {
              "outlinewidth": 0,
              "ticks": ""
             }
            },
            "type": "scatterpolargl"
           }
          ],
          "scatterternary": [
           {
            "marker": {
             "colorbar": {
              "outlinewidth": 0,
              "ticks": ""
             }
            },
            "type": "scatterternary"
           }
          ],
          "surface": [
           {
            "colorbar": {
             "outlinewidth": 0,
             "ticks": ""
            },
            "colorscale": [
             [
              0,
              "#0d0887"
             ],
             [
              0.1111111111111111,
              "#46039f"
             ],
             [
              0.2222222222222222,
              "#7201a8"
             ],
             [
              0.3333333333333333,
              "#9c179e"
             ],
             [
              0.4444444444444444,
              "#bd3786"
             ],
             [
              0.5555555555555556,
              "#d8576b"
             ],
             [
              0.6666666666666666,
              "#ed7953"
             ],
             [
              0.7777777777777778,
              "#fb9f3a"
             ],
             [
              0.8888888888888888,
              "#fdca26"
             ],
             [
              1,
              "#f0f921"
             ]
            ],
            "type": "surface"
           }
          ],
          "table": [
           {
            "cells": {
             "fill": {
              "color": "#EBF0F8"
             },
             "line": {
              "color": "white"
             }
            },
            "header": {
             "fill": {
              "color": "#C8D4E3"
             },
             "line": {
              "color": "white"
             }
            },
            "type": "table"
           }
          ]
         },
         "layout": {
          "annotationdefaults": {
           "arrowcolor": "#2a3f5f",
           "arrowhead": 0,
           "arrowwidth": 1
          },
          "autotypenumbers": "strict",
          "coloraxis": {
           "colorbar": {
            "outlinewidth": 0,
            "ticks": ""
           }
          },
          "colorscale": {
           "diverging": [
            [
             0,
             "#8e0152"
            ],
            [
             0.1,
             "#c51b7d"
            ],
            [
             0.2,
             "#de77ae"
            ],
            [
             0.3,
             "#f1b6da"
            ],
            [
             0.4,
             "#fde0ef"
            ],
            [
             0.5,
             "#f7f7f7"
            ],
            [
             0.6,
             "#e6f5d0"
            ],
            [
             0.7,
             "#b8e186"
            ],
            [
             0.8,
             "#7fbc41"
            ],
            [
             0.9,
             "#4d9221"
            ],
            [
             1,
             "#276419"
            ]
           ],
           "sequential": [
            [
             0,
             "#0d0887"
            ],
            [
             0.1111111111111111,
             "#46039f"
            ],
            [
             0.2222222222222222,
             "#7201a8"
            ],
            [
             0.3333333333333333,
             "#9c179e"
            ],
            [
             0.4444444444444444,
             "#bd3786"
            ],
            [
             0.5555555555555556,
             "#d8576b"
            ],
            [
             0.6666666666666666,
             "#ed7953"
            ],
            [
             0.7777777777777778,
             "#fb9f3a"
            ],
            [
             0.8888888888888888,
             "#fdca26"
            ],
            [
             1,
             "#f0f921"
            ]
           ],
           "sequentialminus": [
            [
             0,
             "#0d0887"
            ],
            [
             0.1111111111111111,
             "#46039f"
            ],
            [
             0.2222222222222222,
             "#7201a8"
            ],
            [
             0.3333333333333333,
             "#9c179e"
            ],
            [
             0.4444444444444444,
             "#bd3786"
            ],
            [
             0.5555555555555556,
             "#d8576b"
            ],
            [
             0.6666666666666666,
             "#ed7953"
            ],
            [
             0.7777777777777778,
             "#fb9f3a"
            ],
            [
             0.8888888888888888,
             "#fdca26"
            ],
            [
             1,
             "#f0f921"
            ]
           ]
          },
          "colorway": [
           "#636efa",
           "#EF553B",
           "#00cc96",
           "#ab63fa",
           "#FFA15A",
           "#19d3f3",
           "#FF6692",
           "#B6E880",
           "#FF97FF",
           "#FECB52"
          ],
          "font": {
           "color": "#2a3f5f"
          },
          "geo": {
           "bgcolor": "white",
           "lakecolor": "white",
           "landcolor": "#E5ECF6",
           "showlakes": true,
           "showland": true,
           "subunitcolor": "white"
          },
          "hoverlabel": {
           "align": "left"
          },
          "hovermode": "closest",
          "mapbox": {
           "style": "light"
          },
          "paper_bgcolor": "white",
          "plot_bgcolor": "#E5ECF6",
          "polar": {
           "angularaxis": {
            "gridcolor": "white",
            "linecolor": "white",
            "ticks": ""
           },
           "bgcolor": "#E5ECF6",
           "radialaxis": {
            "gridcolor": "white",
            "linecolor": "white",
            "ticks": ""
           }
          },
          "scene": {
           "xaxis": {
            "backgroundcolor": "#E5ECF6",
            "gridcolor": "white",
            "gridwidth": 2,
            "linecolor": "white",
            "showbackground": true,
            "ticks": "",
            "zerolinecolor": "white"
           },
           "yaxis": {
            "backgroundcolor": "#E5ECF6",
            "gridcolor": "white",
            "gridwidth": 2,
            "linecolor": "white",
            "showbackground": true,
            "ticks": "",
            "zerolinecolor": "white"
           },
           "zaxis": {
            "backgroundcolor": "#E5ECF6",
            "gridcolor": "white",
            "gridwidth": 2,
            "linecolor": "white",
            "showbackground": true,
            "ticks": "",
            "zerolinecolor": "white"
           }
          },
          "shapedefaults": {
           "line": {
            "color": "#2a3f5f"
           }
          },
          "ternary": {
           "aaxis": {
            "gridcolor": "white",
            "linecolor": "white",
            "ticks": ""
           },
           "baxis": {
            "gridcolor": "white",
            "linecolor": "white",
            "ticks": ""
           },
           "bgcolor": "#E5ECF6",
           "caxis": {
            "gridcolor": "white",
            "linecolor": "white",
            "ticks": ""
           }
          },
          "title": {
           "x": 0.05
          },
          "xaxis": {
           "automargin": true,
           "gridcolor": "white",
           "linecolor": "white",
           "ticks": "",
           "title": {
            "standoff": 15
           },
           "zerolinecolor": "white",
           "zerolinewidth": 2
          },
          "yaxis": {
           "automargin": true,
           "gridcolor": "white",
           "linecolor": "white",
           "ticks": "",
           "title": {
            "standoff": 15
           },
           "zerolinecolor": "white",
           "zerolinewidth": 2
          }
         }
        },
        "title": {
         "text": "넷플릭스 컨텐츠 업데이트 연도별 월간 추가 추세"
        },
        "xaxis": {
         "anchor": "y",
         "autorange": true,
         "constrain": "domain",
         "domain": [
          0.3223990683229814,
          0.6776009316770186
         ],
         "range": [
          -0.5,
          11.5
         ],
         "scaleanchor": "y",
         "title": {
          "text": "month"
         },
         "type": "category"
        },
        "yaxis": {
         "anchor": "x",
         "autorange": true,
         "constrain": "domain",
         "domain": [
          0,
          1
         ],
         "range": [
          7.5,
          -0.5
         ],
         "title": {
          "text": "year"
         },
         "type": "category"
        }
       }
      },
      "image/png": "[encoded data removed]",
      "text/html": [
       "<div>                            <div id=\"4d6f3c57-f564-4dd0-bb81-96f5525bfc14\" class=\"plotly-graph-div\" style=\"height:525px; width:100%;\"></div>            <script type=\"text/javascript\">                require([\"plotly\"], function(Plotly) {                    window.PLOTLYENV=window.PLOTLYENV || {};                                    if (document.getElementById(\"4d6f3c57-f564-4dd0-bb81-96f5525bfc14\")) {                    Plotly.newPlot(                        \"4d6f3c57-f564-4dd0-bb81-96f5525bfc14\",                        [{\"coloraxis\": \"coloraxis\", \"hovertemplate\": \"month: %{x}<br>year: %{y}<br>Count: %{z}<extra></extra>\", \"name\": \"0\", \"type\": \"heatmap\", \"x\": [\"December\", \"November\", \"October\", \"September\", \"August\", \"July\", \"June\", \"May\", \"April\", \"March\", \"February\", \"January\"], \"xaxis\": \"x\", \"y\": [\"2014\", \"2015\", \"2016\", \"2017\", \"2018\", \"2019\", \"2020\", \"2021\"], \"yaxis\": \"y\", \"z\": [[0.0, 1.0, 0.0, 0.0, 0.0, 0.0, 0.0, 0.0, 0.0, 0.0, 0.0, 1.0], [1.0, 0.0, 1.0, 1.0, 0.0, 0.0, 0.0, 0.0, 0.0, 0.0, 0.0, 0.0], [4.0, 1.0, 2.0, 0.0, 1.0, 0.0, 0.0, 0.0, 0.0, 1.0, 0.0, 0.0], [0.0, 1.0, 6.0, 2.0, 5.0, 0.0, 1.0, 3.0, 2.0, 3.0, 1.0, 2.0], [10.0, 5.0, 8.0, 9.0, 7.0, 17.0, 4.0, 2.0, 5.0, 3.0, 3.0, 4.0], [18.0, 72.0, 38.0, 17.0, 10.0, 21.0, 13.0, 11.0, 12.0, 16.0, 9.0, 27.0], [13.0, 15.0, 10.0, 23.0, 16.0, 10.0, 7.0, 9.0, 14.0, 7.0, 6.0, 77.0], [0.0, 0.0, 0.0, 0.0, 0.0, 0.0, 0.0, 0.0, 0.0, 0.0, 0.0, 30.0]]}],                        {\"coloraxis\": {\"colorbar\": {\"title\": {\"text\": \"Count\"}}, \"colorscale\": [[0.0, \"#0d0887\"], [0.1111111111111111, \"#46039f\"], [0.2222222222222222, \"#7201a8\"], [0.3333333333333333, \"#9c179e\"], [0.4444444444444444, \"#bd3786\"], [0.5555555555555556, \"#d8576b\"], [0.6666666666666666, \"#ed7953\"], [0.7777777777777778, \"#fb9f3a\"], [0.8888888888888888, \"#fdca26\"], [1.0, \"#f0f921\"]]}, \"margin\": {\"t\": 60}, \"template\": {\"data\": {\"bar\": [{\"error_x\": {\"color\": \"#2a3f5f\"}, \"error_y\": {\"color\": \"#2a3f5f\"}, \"marker\": {\"line\": {\"color\": \"#E5ECF6\", \"width\": 0.5}}, \"type\": \"bar\"}], \"barpolar\": [{\"marker\": {\"line\": {\"color\": \"#E5ECF6\", \"width\": 0.5}}, \"type\": \"barpolar\"}], \"carpet\": [{\"aaxis\": {\"endlinecolor\": \"#2a3f5f\", \"gridcolor\": \"white\", \"linecolor\": \"white\", \"minorgridcolor\": \"white\", \"startlinecolor\": \"#2a3f5f\"}, \"baxis\": {\"endlinecolor\": \"#2a3f5f\", \"gridcolor\": \"white\", \"linecolor\": \"white\", \"minorgridcolor\": \"white\", \"startlinecolor\": \"#2a3f5f\"}, \"type\": \"carpet\"}], \"choropleth\": [{\"colorbar\": {\"outlinewidth\": 0, \"ticks\": \"\"}, \"type\": \"choropleth\"}], \"contour\": [{\"colorbar\": {\"outlinewidth\": 0, \"ticks\": \"\"}, \"colorscale\": [[0.0, \"#0d0887\"], [0.1111111111111111, \"#46039f\"], [0.2222222222222222, \"#7201a8\"], [0.3333333333333333, \"#9c179e\"], [0.4444444444444444, \"#bd3786\"], [0.5555555555555556, \"#d8576b\"], [0.6666666666666666, \"#ed7953\"], [0.7777777777777778, \"#fb9f3a\"], [0.8888888888888888, \"#fdca26\"], [1.0, \"#f0f921\"]], \"type\": \"contour\"}], \"contourcarpet\": [{\"colorbar\": {\"outlinewidth\": 0, \"ticks\": \"\"}, \"type\": \"contourcarpet\"}], \"heatmap\": [{\"colorbar\": {\"outlinewidth\": 0, \"ticks\": \"\"}, \"colorscale\": [[0.0, \"#0d0887\"], [0.1111111111111111, \"#46039f\"], [0.2222222222222222, \"#7201a8\"], [0.3333333333333333, \"#9c179e\"], [0.4444444444444444, \"#bd3786\"], [0.5555555555555556, \"#d8576b\"], [0.6666666666666666, \"#ed7953\"], [0.7777777777777778, \"#fb9f3a\"], [0.8888888888888888, \"#fdca26\"], [1.0, \"#f0f921\"]], \"type\": \"heatmap\"}], \"heatmapgl\": [{\"colorbar\": {\"outlinewidth\": 0, \"ticks\": \"\"}, \"colorscale\": [[0.0, \"#0d0887\"], [0.1111111111111111, \"#46039f\"], [0.2222222222222222, \"#7201a8\"], [0.3333333333333333, \"#9c179e\"], [0.4444444444444444, \"#bd3786\"], [0.5555555555555556, \"#d8576b\"], [0.6666666666666666, \"#ed7953\"], [0.7777777777777778, \"#fb9f3a\"], [0.8888888888888888, \"#fdca26\"], [1.0, \"#f0f921\"]], \"type\": \"heatmapgl\"}], \"histogram\": [{\"marker\": {\"colorbar\": {\"outlinewidth\": 0, \"ticks\": \"\"}}, \"type\": \"histogram\"}], \"histogram2d\": [{\"colorbar\": {\"outlinewidth\": 0, \"ticks\": \"\"}, \"colorscale\": [[0.0, \"#0d0887\"], [0.1111111111111111, \"#46039f\"], [0.2222222222222222, \"#7201a8\"], [0.3333333333333333, \"#9c179e\"], [0.4444444444444444, \"#bd3786\"], [0.5555555555555556, \"#d8576b\"], [0.6666666666666666, \"#ed7953\"], [0.7777777777777778, \"#fb9f3a\"], [0.8888888888888888, \"#fdca26\"], [1.0, \"#f0f921\"]], \"type\": \"histogram2d\"}], \"histogram2dcontour\": [{\"colorbar\": {\"outlinewidth\": 0, \"ticks\": \"\"}, \"colorscale\": [[0.0, \"#0d0887\"], [0.1111111111111111, \"#46039f\"], [0.2222222222222222, \"#7201a8\"], [0.3333333333333333, \"#9c179e\"], [0.4444444444444444, \"#bd3786\"], [0.5555555555555556, \"#d8576b\"], [0.6666666666666666, \"#ed7953\"], [0.7777777777777778, \"#fb9f3a\"], [0.8888888888888888, \"#fdca26\"], [1.0, \"#f0f921\"]], \"type\": \"histogram2dcontour\"}], \"mesh3d\": [{\"colorbar\": {\"outlinewidth\": 0, \"ticks\": \"\"}, \"type\": \"mesh3d\"}], \"parcoords\": [{\"line\": {\"colorbar\": {\"outlinewidth\": 0, \"ticks\": \"\"}}, \"type\": \"parcoords\"}], \"pie\": [{\"automargin\": true, \"type\": \"pie\"}], \"scatter\": [{\"marker\": {\"colorbar\": {\"outlinewidth\": 0, \"ticks\": \"\"}}, \"type\": \"scatter\"}], \"scatter3d\": [{\"line\": {\"colorbar\": {\"outlinewidth\": 0, \"ticks\": \"\"}}, \"marker\": {\"colorbar\": {\"outlinewidth\": 0, \"ticks\": \"\"}}, \"type\": \"scatter3d\"}], \"scattercarpet\": [{\"marker\": {\"colorbar\": {\"outlinewidth\": 0, \"ticks\": \"\"}}, \"type\": \"scattercarpet\"}], \"scattergeo\": [{\"marker\": {\"colorbar\": {\"outlinewidth\": 0, \"ticks\": \"\"}}, \"type\": \"scattergeo\"}], \"scattergl\": [{\"marker\": {\"colorbar\": {\"outlinewidth\": 0, \"ticks\": \"\"}}, \"type\": \"scattergl\"}], \"scattermapbox\": [{\"marker\": {\"colorbar\": {\"outlinewidth\": 0, \"ticks\": \"\"}}, \"type\": \"scattermapbox\"}], \"scatterpolar\": [{\"marker\": {\"colorbar\": {\"outlinewidth\": 0, \"ticks\": \"\"}}, \"type\": \"scatterpolar\"}], \"scatterpolargl\": [{\"marker\": {\"colorbar\": {\"outlinewidth\": 0, \"ticks\": \"\"}}, \"type\": \"scatterpolargl\"}], \"scatterternary\": [{\"marker\": {\"colorbar\": {\"outlinewidth\": 0, \"ticks\": \"\"}}, \"type\": \"scatterternary\"}], \"surface\": [{\"colorbar\": {\"outlinewidth\": 0, \"ticks\": \"\"}, \"colorscale\": [[0.0, \"#0d0887\"], [0.1111111111111111, \"#46039f\"], [0.2222222222222222, \"#7201a8\"], [0.3333333333333333, \"#9c179e\"], [0.4444444444444444, \"#bd3786\"], [0.5555555555555556, \"#d8576b\"], [0.6666666666666666, \"#ed7953\"], [0.7777777777777778, \"#fb9f3a\"], [0.8888888888888888, \"#fdca26\"], [1.0, \"#f0f921\"]], \"type\": \"surface\"}], \"table\": [{\"cells\": {\"fill\": {\"color\": \"#EBF0F8\"}, \"line\": {\"color\": \"white\"}}, \"header\": {\"fill\": {\"color\": \"#C8D4E3\"}, \"line\": {\"color\": \"white\"}}, \"type\": \"table\"}]}, \"layout\": {\"annotationdefaults\": {\"arrowcolor\": \"#2a3f5f\", \"arrowhead\": 0, \"arrowwidth\": 1}, \"autotypenumbers\": \"strict\", \"coloraxis\": {\"colorbar\": {\"outlinewidth\": 0, \"ticks\": \"\"}}, \"colorscale\": {\"diverging\": [[0, \"#8e0152\"], [0.1, \"#c51b7d\"], [0.2, \"#de77ae\"], [0.3, \"#f1b6da\"], [0.4, \"#fde0ef\"], [0.5, \"#f7f7f7\"], [0.6, \"#e6f5d0\"], [0.7, \"#b8e186\"], [0.8, \"#7fbc41\"], [0.9, \"#4d9221\"], [1, \"#276419\"]], \"sequential\": [[0.0, \"#0d0887\"], [0.1111111111111111, \"#46039f\"], [0.2222222222222222, \"#7201a8\"], [0.3333333333333333, \"#9c179e\"], [0.4444444444444444, \"#bd3786\"], [0.5555555555555556, \"#d8576b\"], [0.6666666666666666, \"#ed7953\"], [0.7777777777777778, \"#fb9f3a\"], [0.8888888888888888, \"#fdca26\"], [1.0, \"#f0f921\"]], \"sequentialminus\": [[0.0, \"#0d0887\"], [0.1111111111111111, \"#46039f\"], [0.2222222222222222, \"#7201a8\"], [0.3333333333333333, \"#9c179e\"], [0.4444444444444444, \"#bd3786\"], [0.5555555555555556, \"#d8576b\"], [0.6666666666666666, \"#ed7953\"], [0.7777777777777778, \"#fb9f3a\"], [0.8888888888888888, \"#fdca26\"], [1.0, \"#f0f921\"]]}, \"colorway\": [\"#636efa\", \"#EF553B\", \"#00cc96\", \"#ab63fa\", \"#FFA15A\", \"#19d3f3\", \"#FF6692\", \"#B6E880\", \"#FF97FF\", \"#FECB52\"], \"font\": {\"color\": \"#2a3f5f\"}, \"geo\": {\"bgcolor\": \"white\", \"lakecolor\": \"white\", \"landcolor\": \"#E5ECF6\", \"showlakes\": true, \"showland\": true, \"subunitcolor\": \"white\"}, \"hoverlabel\": {\"align\": \"left\"}, \"hovermode\": \"closest\", \"mapbox\": {\"style\": \"light\"}, \"paper_bgcolor\": \"white\", \"plot_bgcolor\": \"#E5ECF6\", \"polar\": {\"angularaxis\": {\"gridcolor\": \"white\", \"linecolor\": \"white\", \"ticks\": \"\"}, \"bgcolor\": \"#E5ECF6\", \"radialaxis\": {\"gridcolor\": \"white\", \"linecolor\": \"white\", \"ticks\": \"\"}}, \"scene\": {\"xaxis\": {\"backgroundcolor\": \"#E5ECF6\", \"gridcolor\": \"white\", \"gridwidth\": 2, \"linecolor\": \"white\", \"showbackground\": true, \"ticks\": \"\", \"zerolinecolor\": \"white\"}, \"yaxis\": {\"backgroundcolor\": \"#E5ECF6\", \"gridcolor\": \"white\", \"gridwidth\": 2, \"linecolor\": \"white\", \"showbackground\": true, \"ticks\": \"\", \"zerolinecolor\": \"white\"}, \"zaxis\": {\"backgroundcolor\": \"#E5ECF6\", \"gridcolor\": \"white\", \"gridwidth\": 2, \"linecolor\": \"white\", \"showbackground\": true, \"ticks\": \"\", \"zerolinecolor\": \"white\"}}, \"shapedefaults\": {\"line\": {\"color\": \"#2a3f5f\"}}, \"ternary\": {\"aaxis\": {\"gridcolor\": \"white\", \"linecolor\": \"white\", \"ticks\": \"\"}, \"baxis\": {\"gridcolor\": \"white\", \"linecolor\": \"white\", \"ticks\": \"\"}, \"bgcolor\": \"#E5ECF6\", \"caxis\": {\"gridcolor\": \"white\", \"linecolor\": \"white\", \"ticks\": \"\"}}, \"title\": {\"x\": 0.05}, \"xaxis\": {\"automargin\": true, \"gridcolor\": \"white\", \"linecolor\": \"white\", \"ticks\": \"\", \"title\": {\"standoff\": 15}, \"zerolinecolor\": \"white\", \"zerolinewidth\": 2}, \"yaxis\": {\"automargin\": true, \"gridcolor\": \"white\", \"linecolor\": \"white\", \"ticks\": \"\", \"title\": {\"standoff\": 15}, \"zerolinecolor\": \"white\", \"zerolinewidth\": 2}}}, \"title\": {\"text\": \"\\ub137\\ud50c\\ub9ad\\uc2a4 \\ucee8\\ud150\\uce20 \\uc5c5\\ub370\\uc774\\ud2b8 \\uc5f0\\ub3c4\\ubcc4 \\uc6d4\\uac04 \\ucd94\\uac00 \\ucd94\\uc138\"}, \"xaxis\": {\"anchor\": \"y\", \"constrain\": \"domain\", \"domain\": [0.0, 1.0], \"scaleanchor\": \"y\", \"title\": {\"text\": \"month\"}}, \"yaxis\": {\"anchor\": \"x\", \"autorange\": \"reversed\", \"constrain\": \"domain\", \"domain\": [0.0, 1.0], \"title\": {\"text\": \"year\"}}},                        {\"responsive\": true}                    ).then(function(){\n",
       "                            \n",
       "var gd = document.getElementById('4d6f3c57-f564-4dd0-bb81-96f5525bfc14');\n",
       "var x = new MutationObserver(function (mutations, observer) {{\n",
       "        var display = window.getComputedStyle(gd).display;\n",
       "        if (!display || display === 'none') {{\n",
       "            console.log([gd, 'removed!']);\n",
       "            Plotly.purge(gd);\n",
       "            observer.disconnect();\n",
       "        }}\n",
       "}});\n",
       "\n",
       "// Listen for the removal of the full notebook cells\n",
       "var notebookContainer = gd.closest('#notebook-container');\n",
       "if (notebookContainer) {{\n",
       "    x.observe(notebookContainer, {childList: true});\n",
       "}}\n",
       "\n",
       "// Listen for the clearing of the current output cell\n",
       "var outputEl = gd.closest('.output');\n",
       "if (outputEl) {{\n",
       "    x.observe(outputEl, {childList: true});\n",
       "}}\n",
       "\n",
       "                        })                };                });            </script>        </div>"
      ]
     },
     "metadata": {},
     "output_type": "display_data"
    }
   ],
   "source": [
    "netflix_tmdb_merge_date = netflix_tmdb_merge[['date_added']].dropna()\n",
    "netflix_tmdb_merge_date['year'] = netflix_tmdb_merge_date['date_added'].apply(lambda x: x.split(', ')[-1])\n",
    "netflix_tmdb_merge_date['month'] = netflix_tmdb_merge_date['date_added'].apply(lambda x: x.lstrip().split(' ')[0])\n",
    "\n",
    "month_order = ['January', 'February', 'March', 'April', 'May', 'June', 'July', 'August', 'September', 'October', 'November', 'December'][::-1]\n",
    "df = netflix_tmdb_merge_date.groupby('year')['month'].value_counts().unstack().fillna(0)[month_order]\n",
    "\n",
    "fig = px.imshow(df, labels=dict(color='Count'), x=df.columns, y=df.index)\n",
    "fig.update_layout(title='넷플릭스 컨텐츠 업데이트 연도별 월간 추가 추세')\n",
    "\n",
    "fig.show()"
   ]
  },
  {
   "cell_type": "code",
   "execution_count": 6,
   "id": "f38e484a",
   "metadata": {
    "colab": {
     "base_uri": "https://localhost:8080/",
     "height": 433
    },
    "executionInfo": {
     "elapsed": 1964,
     "status": "ok",
     "timestamp": 1617602888143,
     "user": {
      "displayName": "Kamil Lee",
      "photoUrl": "https://lh3.googleusercontent.com/a-/AOh14GhtVq0rjLCBgtoAYi4HWKjjXq8fzIB4XpPNu6NQbw=s64",
      "userId": "14237530861062268164"
     },
     "user_tz": -540
    },
    "id": "svBoX5CzVjp1",
    "outputId": "28ee01b2-e838-4556-8e6c-550eae4596fc"
   },
   "outputs": [
    {
     "data": {
      "text/plain": [
       "<AxesSubplot:title={'center':'넷플릭스 컨텐츠 연간 추가 추세'}, xlabel='count', ylabel='year'>"
      ]
     },
     "execution_count": 6,
     "metadata": {},
     "output_type": "execute_result"
    },
    {
     "data": {
      "image/png": "[encoded data removed]",
      "text/plain": [
       "<Figure size 720x432 with 1 Axes>"
      ]
     },
     "metadata": {},
     "output_type": "display_data"
    }
   ],
   "source": [
    "f, ax = plt.subplots(figsize=(10, 6))\n",
    "ax.set_title('넷플릭스 컨텐츠 연간 추가 추세', family='D2Coding', size=20)\n",
    "    \n",
    "plt.xkcd()\n",
    "\n",
    "sns.set(style='whitegrid')\n",
    "sns.countplot(data=netflix_tmdb_merge_date, y='year',\n",
    "              palette='pastel', order=netflix_tmdb_merge_date['year']\n",
    "              .value_counts().index[0:])"
   ]
  },
  {
   "cell_type": "markdown",
   "id": "bb536539",
   "metadata": {
    "id": "tSkzd5w8Vjp2"
   },
   "source": [
    "2020년 1월의 색깔이 가장 진한 것으로 보아 연도별 월간 추가 추세가 가장 두드러진 모습을 볼 수 있다.\n",
    "\n",
    "그리고 연간 추가 추세의 경우에는 2019년도가 가장 많은 양의 컨텐츠가 추가가 되었다는 점 또한 확인할 수 있다."
   ]
  },
  {
   "cell_type": "markdown",
   "id": "34ee50f8",
   "metadata": {
    "id": "Pdv_MLdUVjp4"
   },
   "source": [
    "### 2.3 넷플릭스 영상물(컨텐츠) 등급 확인"
   ]
  },
  {
   "cell_type": "code",
   "execution_count": 7,
   "id": "c927af4c",
   "metadata": {
    "colab": {
     "base_uri": "https://localhost:8080/"
    },
    "executionInfo": {
     "elapsed": 880,
     "status": "ok",
     "timestamp": 1617602901133,
     "user": {
      "displayName": "Kamil Lee",
      "photoUrl": "https://lh3.googleusercontent.com/a-/AOh14GhtVq0rjLCBgtoAYi4HWKjjXq8fzIB4XpPNu6NQbw=s64",
      "userId": "14237530861062268164"
     },
     "user_tz": -540
    },
    "id": "wlJWEdvJVjp4",
    "outputId": "ead15391-c060-4a13-feb7-307e10145134"
   },
   "outputs": [
    {
     "data": {
      "text/plain": [
       "array(['PG-13', 'R', 'PG', 'TV-Y7', 'TV-MA', 'TV-14', 'TV-PG', 'NR', 'G',\n",
       "       'UR', 'TV-G'], dtype=object)"
      ]
     },
     "execution_count": 7,
     "metadata": {},
     "output_type": "execute_result"
    }
   ],
   "source": [
    "netflix_tmdb_merge['rating'].unique()"
   ]
  },
  {
   "cell_type": "code",
   "execution_count": 8,
   "id": "6a9f0651",
   "metadata": {
    "colab": {
     "base_uri": "https://localhost:8080/",
     "height": 433
    },
    "executionInfo": {
     "elapsed": 1675,
     "status": "ok",
     "timestamp": 1617602903202,
     "user": {
      "displayName": "Kamil Lee",
      "photoUrl": "https://lh3.googleusercontent.com/a-/AOh14GhtVq0rjLCBgtoAYi4HWKjjXq8fzIB4XpPNu6NQbw=s64",
      "userId": "14237530861062268164"
     },
     "user_tz": -540
    },
    "id": "jaWgk3IPVjp5",
    "outputId": "6a74bc85-786d-4c42-ec90-0753e535d557"
   },
   "outputs": [
    {
     "data": {
      "text/plain": [
       "<AxesSubplot:title={'center':'넷플릭스 영상물(컨텐츠) 등급'}, xlabel='rating', ylabel='count'>"
      ]
     },
     "execution_count": 8,
     "metadata": {},
     "output_type": "execute_result"
    },
    {
     "data": {
      "image/png": "[encoded data removed]",
      "text/plain": [
       "<Figure size 720x432 with 1 Axes>"
      ]
     },
     "metadata": {},
     "output_type": "display_data"
    }
   ],
   "source": [
    "f, ax = plt.subplots(figsize=(10, 6))\n",
    "ax.set_title('넷플릭스 영상물(컨텐츠) 등급', family='D2Coding', size=20)\n",
    "\n",
    "plt.xkcd()\n",
    "    \n",
    "sns.set(style = \"whitegrid\")\n",
    "sns.countplot(data=netflix_tmdb_merge, x='rating', palette='husl',\n",
    "              order=netflix_tmdb_merge['rating'].value_counts().index[0:])"
   ]
  },
  {
   "cell_type": "markdown",
   "id": "d0ecf1ef",
   "metadata": {
    "id": "fLu6KlgHVjp5"
   },
   "source": [
    "위의 등급은 **[영상물 등급 제도/미국](https://namu.wiki/w/%EC%98%81%EC%83%81%EB%AC%BC%20%EB%93%B1%EA%B8%89%20%EC%A0%9C%EB%8F%84/%EB%AF%B8%EA%B5%AD)** 을 기준으로 구분된 것이다.\n",
    "\n",
    "전체적으로 넷플릭스가 수입해 오는 컨텐츠들이 <u>대부분 자극적인?(R: 17세 미만의 경우 부모의 동반 필수)</u> 것을 확인할 수 있다.\n",
    "\n",
    "다음으로 많은 \"PG-13\" 등급의 경우 '12세 관람가에서 15세 관람가 시청 가능'이라는 뜻하며, PG, TV-MA, TV-14... 순으로 결과를 보여주고 있다."
   ]
  },
  {
   "cell_type": "markdown",
   "id": "06ff3d5f",
   "metadata": {
    "id": "K4IClFz9LGxE"
   },
   "source": [
    "### 2.4 넷플릭스 컨텐츠 상영시간(Duration) 확인"
   ]
  },
  {
   "cell_type": "code",
   "execution_count": 9,
   "id": "b83891f4",
   "metadata": {
    "colab": {
     "base_uri": "https://localhost:8080/"
    },
    "executionInfo": {
     "elapsed": 1200,
     "status": "ok",
     "timestamp": 1617602910056,
     "user": {
      "displayName": "Kamil Lee",
      "photoUrl": "https://lh3.googleusercontent.com/a-/AOh14GhtVq0rjLCBgtoAYi4HWKjjXq8fzIB4XpPNu6NQbw=s64",
      "userId": "14237530861062268164"
     },
     "user_tz": -540
    },
    "id": "ICGIg20xVjp7",
    "outputId": "4baa5b06-9c46-42d4-d355-ede5825ac42e",
    "tags": []
   },
   "outputs": [
    {
     "data": {
      "text/plain": [
       "array(['80 min', '123 min', '93 min', '102 min', '104 min', '117 min',\n",
       "       '83 min', '99 min', '100 min', '176 min', '95 min', '86 min',\n",
       "       '125 min', '82 min', '106 min', '92 min', '101 min', '133 min',\n",
       "       '110 min', '111 min', '91 min', '103 min', '45 min', '122 min',\n",
       "       '119 min', '139 min', '87 min', '98 min', '94 min', '90 min',\n",
       "       '143 min', '147 min', '121 min', '1 Season', '88 min', '107 min',\n",
       "       '144 min', '116 min', '112 min', '168 min', '97 min', '155 min',\n",
       "       '113 min', '85 min', '145 min', '108 min', '141 min', '115 min',\n",
       "       '96 min', '109 min', '172 min', '137 min', '165 min', '200 min',\n",
       "       '89 min', '127 min', '105 min', '3 Seasons', '140 min', '118 min',\n",
       "       '181 min', '163 min', '134 min', '167 min', '130 min', '5 Seasons',\n",
       "       '124 min', '126 min', '142 min', '148 min', '153 min', '4 Seasons',\n",
       "       '154 min', '128 min', '138 min', '75 min', '114 min', '132 min',\n",
       "       '158 min', '150 min', '2 Seasons', '77 min', '189 min', '136 min',\n",
       "       '131 min', '84 min', '135 min', '120 min', '129 min', '159 min',\n",
       "       '79 min', '195 min', '146 min', '78 min', '81 min', '149 min',\n",
       "       '151 min', '201 min', '179 min', '66 min', '191 min'], dtype=object)"
      ]
     },
     "execution_count": 9,
     "metadata": {},
     "output_type": "execute_result"
    }
   ],
   "source": [
    "netflix_tmdb_merge['duration'].unique()"
   ]
  },
  {
   "cell_type": "code",
   "execution_count": 10,
   "id": "0e2411f4",
   "metadata": {
    "colab": {
     "base_uri": "https://localhost:8080/",
     "height": 542
    },
    "executionInfo": {
     "elapsed": 1394,
     "status": "ok",
     "timestamp": 1617602910593,
     "user": {
      "displayName": "Kamil Lee",
      "photoUrl": "https://lh3.googleusercontent.com/a-/AOh14GhtVq0rjLCBgtoAYi4HWKjjXq8fzIB4XpPNu6NQbw=s64",
      "userId": "14237530861062268164"
     },
     "user_tz": -540
    },
    "id": "oPIs5DnUVjp7",
    "outputId": "677956c9-6666-4f31-e452-dd8bc11d19ef"
   },
   "outputs": [
    {
     "data": {
      "application/vnd.plotly.v1+json": {
       "config": {
        "plotlyServerURL": "https://plot.ly"
       },
       "data": [
        {
         "marker": {
          "color": [
           "crimson"
          ]
         },
         "text": [
          32,
          20,
          19,
          18,
          16,
          15,
          15,
          15,
          15,
          14,
          13,
          12,
          12,
          12,
          12,
          11,
          11,
          11,
          11,
          11,
          11,
          10,
          10,
          10,
          10,
          10,
          10,
          9,
          9,
          9,
          8,
          8,
          8,
          8,
          8,
          8,
          7,
          7,
          7,
          7,
          6,
          6,
          6,
          6,
          5,
          5,
          5,
          5,
          5,
          5,
          5,
          4,
          4,
          4,
          4,
          3,
          3,
          3,
          3,
          3,
          3,
          3,
          3,
          3,
          3,
          2,
          2,
          2,
          2,
          2,
          2,
          2,
          2,
          1,
          1,
          1,
          1,
          1,
          1,
          1,
          1,
          1,
          1,
          1,
          1,
          1,
          1,
          1,
          1,
          1,
          1,
          1,
          1,
          1,
          1,
          1,
          1,
          1,
          1,
          1,
          1
         ],
         "textposition": "outside",
         "type": "bar",
         "x": [
          "1 Season",
          "88 min",
          "98 min",
          "101 min",
          "93 min",
          "91 min",
          "106 min",
          "97 min",
          "99 min",
          "96 min",
          "112 min",
          "104 min",
          "94 min",
          "100 min",
          "119 min",
          "105 min",
          "111 min",
          "90 min",
          "118 min",
          "110 min",
          "108 min",
          "123 min",
          "109 min",
          "107 min",
          "95 min",
          "117 min",
          "92 min",
          "102 min",
          "103 min",
          "2 Seasons",
          "89 min",
          "121 min",
          "85 min",
          "113 min",
          "116 min",
          "86 min",
          "3 Seasons",
          "128 min",
          "87 min",
          "133 min",
          "126 min",
          "122 min",
          "120 min",
          "127 min",
          "139 min",
          "82 min",
          "114 min",
          "138 min",
          "83 min",
          "130 min",
          "137 min",
          "158 min",
          "129 min",
          "115 min",
          "134 min",
          "136 min",
          "155 min",
          "84 min",
          "140 min",
          "154 min",
          "124 min",
          "141 min",
          "147 min",
          "143 min",
          "81 min",
          "153 min",
          "148 min",
          "131 min",
          "168 min",
          "145 min",
          "125 min",
          "132 min",
          "135 min",
          "165 min",
          "176 min",
          "151 min",
          "163 min",
          "144 min",
          "66 min",
          "146 min",
          "201 min",
          "179 min",
          "191 min",
          "5 Seasons",
          "167 min",
          "142 min",
          "195 min",
          "200 min",
          "75 min",
          "78 min",
          "159 min",
          "172 min",
          "79 min",
          "181 min",
          "149 min",
          "77 min",
          "189 min",
          "45 min",
          "80 min",
          "150 min",
          "4 Seasons"
         ],
         "y": [
          32,
          20,
          19,
          18,
          16,
          15,
          15,
          15,
          15,
          14,
          13,
          12,
          12,
          12,
          12,
          11,
          11,
          11,
          11,
          11,
          11,
          10,
          10,
          10,
          10,
          10,
          10,
          9,
          9,
          9,
          8,
          8,
          8,
          8,
          8,
          8,
          7,
          7,
          7,
          7,
          6,
          6,
          6,
          6,
          5,
          5,
          5,
          5,
          5,
          5,
          5,
          4,
          4,
          4,
          4,
          3,
          3,
          3,
          3,
          3,
          3,
          3,
          3,
          3,
          3,
          2,
          2,
          2,
          2,
          2,
          2,
          2,
          2,
          1,
          1,
          1,
          1,
          1,
          1,
          1,
          1,
          1,
          1,
          1,
          1,
          1,
          1,
          1,
          1,
          1,
          1,
          1,
          1,
          1,
          1,
          1,
          1,
          1,
          1,
          1,
          1
         ]
        }
       ],
       "layout": {
        "autosize": true,
        "template": {
         "data": {
          "bar": [
           {
            "error_x": {
             "color": "#2a3f5f"
            },
            "error_y": {
             "color": "#2a3f5f"
            },
            "marker": {
             "line": {
              "color": "#E5ECF6",
              "width": 0.5
             }
            },
            "type": "bar"
           }
          ],
          "barpolar": [
           {
            "marker": {
             "line": {
              "color": "#E5ECF6",
              "width": 0.5
             }
            },
            "type": "barpolar"
           }
          ],
          "carpet": [
           {
            "aaxis": {
             "endlinecolor": "#2a3f5f",
             "gridcolor": "white",
             "linecolor": "white",
             "minorgridcolor": "white",
             "startlinecolor": "#2a3f5f"
            },
            "baxis": {
             "endlinecolor": "#2a3f5f",
             "gridcolor": "white",
             "linecolor": "white",
             "minorgridcolor": "white",
             "startlinecolor": "#2a3f5f"
            },
            "type": "carpet"
           }
          ],
          "choropleth": [
           {
            "colorbar": {
             "outlinewidth": 0,
             "ticks": ""
            },
            "type": "choropleth"
           }
          ],
          "contour": [
           {
            "colorbar": {
             "outlinewidth": 0,
             "ticks": ""
            },
            "colorscale": [
             [
              0,
              "#0d0887"
             ],
             [
              0.1111111111111111,
              "#46039f"
             ],
             [
              0.2222222222222222,
              "#7201a8"
             ],
             [
              0.3333333333333333,
              "#9c179e"
             ],
             [
              0.4444444444444444,
              "#bd3786"
             ],
             [
              0.5555555555555556,
              "#d8576b"
             ],
             [
              0.6666666666666666,
              "#ed7953"
             ],
             [
              0.7777777777777778,
              "#fb9f3a"
             ],
             [
              0.8888888888888888,
              "#fdca26"
             ],
             [
              1,
              "#f0f921"
             ]
            ],
            "type": "contour"
           }
          ],
          "contourcarpet": [
           {
            "colorbar": {
             "outlinewidth": 0,
             "ticks": ""
            },
            "type": "contourcarpet"
           }
          ],
          "heatmap": [
           {
            "colorbar": {
             "outlinewidth": 0,
             "ticks": ""
            },
            "colorscale": [
             [
              0,
              "#0d0887"
             ],
             [
              0.1111111111111111,
              "#46039f"
             ],
             [
              0.2222222222222222,
              "#7201a8"
             ],
             [
              0.3333333333333333,
              "#9c179e"
             ],
             [
              0.4444444444444444,
              "#bd3786"
             ],
             [
              0.5555555555555556,
              "#d8576b"
             ],
             [
              0.6666666666666666,
              "#ed7953"
             ],
             [
              0.7777777777777778,
              "#fb9f3a"
             ],
             [
              0.8888888888888888,
              "#fdca26"
             ],
             [
              1,
              "#f0f921"
             ]
            ],
            "type": "heatmap"
           }
          ],
          "heatmapgl": [
           {
            "colorbar": {
             "outlinewidth": 0,
             "ticks": ""
            },
            "colorscale": [
             [
              0,
              "#0d0887"
             ],
             [
              0.1111111111111111,
              "#46039f"
             ],
             [
              0.2222222222222222,
              "#7201a8"
             ],
             [
              0.3333333333333333,
              "#9c179e"
             ],
             [
              0.4444444444444444,
              "#bd3786"
             ],
             [
              0.5555555555555556,
              "#d8576b"
             ],
             [
              0.6666666666666666,
              "#ed7953"
             ],
             [
              0.7777777777777778,
              "#fb9f3a"
             ],
             [
              0.8888888888888888,
              "#fdca26"
             ],
             [
              1,
              "#f0f921"
             ]
            ],
            "type": "heatmapgl"
           }
          ],
          "histogram": [
           {
            "marker": {
             "colorbar": {
              "outlinewidth": 0,
              "ticks": ""
             }
            },
            "type": "histogram"
           }
          ],
          "histogram2d": [
           {
            "colorbar": {
             "outlinewidth": 0,
             "ticks": ""
            },
            "colorscale": [
             [
              0,
              "#0d0887"
             ],
             [
              0.1111111111111111,
              "#46039f"
             ],
             [
              0.2222222222222222,
              "#7201a8"
             ],
             [
              0.3333333333333333,
              "#9c179e"
             ],
             [
              0.4444444444444444,
              "#bd3786"
             ],
             [
              0.5555555555555556,
              "#d8576b"
             ],
             [
              0.6666666666666666,
              "#ed7953"
             ],
             [
              0.7777777777777778,
              "#fb9f3a"
             ],
             [
              0.8888888888888888,
              "#fdca26"
             ],
             [
              1,
              "#f0f921"
             ]
            ],
            "type": "histogram2d"
           }
          ],
          "histogram2dcontour": [
           {
            "colorbar": {
             "outlinewidth": 0,
             "ticks": ""
            },
            "colorscale": [
             [
              0,
              "#0d0887"
             ],
             [
              0.1111111111111111,
              "#46039f"
             ],
             [
              0.2222222222222222,
              "#7201a8"
             ],
             [
              0.3333333333333333,
              "#9c179e"
             ],
             [
              0.4444444444444444,
              "#bd3786"
             ],
             [
              0.5555555555555556,
              "#d8576b"
             ],
             [
              0.6666666666666666,
              "#ed7953"
             ],
             [
              0.7777777777777778,
              "#fb9f3a"
             ],
             [
              0.8888888888888888,
              "#fdca26"
             ],
             [
              1,
              "#f0f921"
             ]
            ],
            "type": "histogram2dcontour"
           }
          ],
          "mesh3d": [
           {
            "colorbar": {
             "outlinewidth": 0,
             "ticks": ""
            },
            "type": "mesh3d"
           }
          ],
          "parcoords": [
           {
            "line": {
             "colorbar": {
              "outlinewidth": 0,
              "ticks": ""
             }
            },
            "type": "parcoords"
           }
          ],
          "pie": [
           {
            "automargin": true,
            "type": "pie"
           }
          ],
          "scatter": [
           {
            "marker": {
             "colorbar": {
              "outlinewidth": 0,
              "ticks": ""
             }
            },
            "type": "scatter"
           }
          ],
          "scatter3d": [
           {
            "line": {
             "colorbar": {
              "outlinewidth": 0,
              "ticks": ""
             }
            },
            "marker": {
             "colorbar": {
              "outlinewidth": 0,
              "ticks": ""
             }
            },
            "type": "scatter3d"
           }
          ],
          "scattercarpet": [
           {
            "marker": {
             "colorbar": {
              "outlinewidth": 0,
              "ticks": ""
             }
            },
            "type": "scattercarpet"
           }
          ],
          "scattergeo": [
           {
            "marker": {
             "colorbar": {
              "outlinewidth": 0,
              "ticks": ""
             }
            },
            "type": "scattergeo"
           }
          ],
          "scattergl": [
           {
            "marker": {
             "colorbar": {
              "outlinewidth": 0,
              "ticks": ""
             }
            },
            "type": "scattergl"
           }
          ],
          "scattermapbox": [
           {
            "marker": {
             "colorbar": {
              "outlinewidth": 0,
              "ticks": ""
             }
            },
            "type": "scattermapbox"
           }
          ],
          "scatterpolar": [
           {
            "marker": {
             "colorbar": {
              "outlinewidth": 0,
              "ticks": ""
             }
            },
            "type": "scatterpolar"
           }
          ],
          "scatterpolargl": [
           {
            "marker": {
             "colorbar": {
              "outlinewidth": 0,
              "ticks": ""
             }
            },
            "type": "scatterpolargl"
           }
          ],
          "scatterternary": [
           {
            "marker": {
             "colorbar": {
              "outlinewidth": 0,
              "ticks": ""
             }
            },
            "type": "scatterternary"
           }
          ],
          "surface": [
           {
            "colorbar": {
             "outlinewidth": 0,
             "ticks": ""
            },
            "colorscale": [
             [
              0,
              "#0d0887"
             ],
             [
              0.1111111111111111,
              "#46039f"
             ],
             [
              0.2222222222222222,
              "#7201a8"
             ],
             [
              0.3333333333333333,
              "#9c179e"
             ],
             [
              0.4444444444444444,
              "#bd3786"
             ],
             [
              0.5555555555555556,
              "#d8576b"
             ],
             [
              0.6666666666666666,
              "#ed7953"
             ],
             [
              0.7777777777777778,
              "#fb9f3a"
             ],
             [
              0.8888888888888888,
              "#fdca26"
             ],
             [
              1,
              "#f0f921"
             ]
            ],
            "type": "surface"
           }
          ],
          "table": [
           {
            "cells": {
             "fill": {
              "color": "#EBF0F8"
             },
             "line": {
              "color": "white"
             }
            },
            "header": {
             "fill": {
              "color": "#C8D4E3"
             },
             "line": {
              "color": "white"
             }
            },
            "type": "table"
           }
          ]
         },
         "layout": {
          "annotationdefaults": {
           "arrowcolor": "#2a3f5f",
           "arrowhead": 0,
           "arrowwidth": 1
          },
          "autotypenumbers": "strict",
          "coloraxis": {
           "colorbar": {
            "outlinewidth": 0,
            "ticks": ""
           }
          },
          "colorscale": {
           "diverging": [
            [
             0,
             "#8e0152"
            ],
            [
             0.1,
             "#c51b7d"
            ],
            [
             0.2,
             "#de77ae"
            ],
            [
             0.3,
             "#f1b6da"
            ],
            [
             0.4,
             "#fde0ef"
            ],
            [
             0.5,
             "#f7f7f7"
            ],
            [
             0.6,
             "#e6f5d0"
            ],
            [
             0.7,
             "#b8e186"
            ],
            [
             0.8,
             "#7fbc41"
            ],
            [
             0.9,
             "#4d9221"
            ],
            [
             1,
             "#276419"
            ]
           ],
           "sequential": [
            [
             0,
             "#0d0887"
            ],
            [
             0.1111111111111111,
             "#46039f"
            ],
            [
             0.2222222222222222,
             "#7201a8"
            ],
            [
             0.3333333333333333,
             "#9c179e"
            ],
            [
             0.4444444444444444,
             "#bd3786"
            ],
            [
             0.5555555555555556,
             "#d8576b"
            ],
            [
             0.6666666666666666,
             "#ed7953"
            ],
            [
             0.7777777777777778,
             "#fb9f3a"
            ],
            [
             0.8888888888888888,
             "#fdca26"
            ],
            [
             1,
             "#f0f921"
            ]
           ],
           "sequentialminus": [
            [
             0,
             "#0d0887"
            ],
            [
             0.1111111111111111,
             "#46039f"
            ],
            [
             0.2222222222222222,
             "#7201a8"
            ],
            [
             0.3333333333333333,
             "#9c179e"
            ],
            [
             0.4444444444444444,
             "#bd3786"
            ],
            [
             0.5555555555555556,
             "#d8576b"
            ],
            [
             0.6666666666666666,
             "#ed7953"
            ],
            [
             0.7777777777777778,
             "#fb9f3a"
            ],
            [
             0.8888888888888888,
             "#fdca26"
            ],
            [
             1,
             "#f0f921"
            ]
           ]
          },
          "colorway": [
           "#636efa",
           "#EF553B",
           "#00cc96",
           "#ab63fa",
           "#FFA15A",
           "#19d3f3",
           "#FF6692",
           "#B6E880",
           "#FF97FF",
           "#FECB52"
          ],
          "font": {
           "color": "#2a3f5f"
          },
          "geo": {
           "bgcolor": "white",
           "lakecolor": "white",
           "landcolor": "#E5ECF6",
           "showlakes": true,
           "showland": true,
           "subunitcolor": "white"
          },
          "hoverlabel": {
           "align": "left"
          },
          "hovermode": "closest",
          "mapbox": {
           "style": "light"
          },
          "paper_bgcolor": "white",
          "plot_bgcolor": "#E5ECF6",
          "polar": {
           "angularaxis": {
            "gridcolor": "white",
            "linecolor": "white",
            "ticks": ""
           },
           "bgcolor": "#E5ECF6",
           "radialaxis": {
            "gridcolor": "white",
            "linecolor": "white",
            "ticks": ""
           }
          },
          "scene": {
           "xaxis": {
            "backgroundcolor": "#E5ECF6",
            "gridcolor": "white",
            "gridwidth": 2,
            "linecolor": "white",
            "showbackground": true,
            "ticks": "",
            "zerolinecolor": "white"
           },
           "yaxis": {
            "backgroundcolor": "#E5ECF6",
            "gridcolor": "white",
            "gridwidth": 2,
            "linecolor": "white",
            "showbackground": true,
            "ticks": "",
            "zerolinecolor": "white"
           },
           "zaxis": {
            "backgroundcolor": "#E5ECF6",
            "gridcolor": "white",
            "gridwidth": 2,
            "linecolor": "white",
            "showbackground": true,
            "ticks": "",
            "zerolinecolor": "white"
           }
          },
          "shapedefaults": {
           "line": {
            "color": "#2a3f5f"
           }
          },
          "ternary": {
           "aaxis": {
            "gridcolor": "white",
            "linecolor": "white",
            "ticks": ""
           },
           "baxis": {
            "gridcolor": "white",
            "linecolor": "white",
            "ticks": ""
           },
           "bgcolor": "#E5ECF6",
           "caxis": {
            "gridcolor": "white",
            "linecolor": "white",
            "ticks": ""
           }
          },
          "title": {
           "x": 0.05
          },
          "xaxis": {
           "automargin": true,
           "gridcolor": "white",
           "linecolor": "white",
           "ticks": "",
           "title": {
            "standoff": 15
           },
           "zerolinecolor": "white",
           "zerolinewidth": 2
          },
          "yaxis": {
           "automargin": true,
           "gridcolor": "white",
           "linecolor": "white",
           "ticks": "",
           "title": {
            "standoff": 15
           },
           "zerolinecolor": "white",
           "zerolinewidth": 2
          }
         }
        },
        "title": {
         "text": "넷플릭스 컨텐츠 상영시간 분포도"
        },
        "xaxis": {
         "autorange": true,
         "categoryorder": "total descending",
         "range": [
          -0.5,
          100.5
         ],
         "type": "category"
        },
        "yaxis": {
         "autorange": true,
         "range": [
          0,
          33.68421052631579
         ],
         "type": "linear"
        }
       }
      },
      "image/png": "[encoded data removed]",
      "text/html": [
       "<div>                            <div id=\"11a87d63-c5e5-4986-b45d-389f887aaa02\" class=\"plotly-graph-div\" style=\"height:525px; width:100%;\"></div>            <script type=\"text/javascript\">                require([\"plotly\"], function(Plotly) {                    window.PLOTLYENV=window.PLOTLYENV || {};                                    if (document.getElementById(\"11a87d63-c5e5-4986-b45d-389f887aaa02\")) {                    Plotly.newPlot(                        \"11a87d63-c5e5-4986-b45d-389f887aaa02\",                        [{\"marker\": {\"color\": [\"crimson\"]}, \"text\": [32.0, 20.0, 19.0, 18.0, 16.0, 15.0, 15.0, 15.0, 15.0, 14.0, 13.0, 12.0, 12.0, 12.0, 12.0, 11.0, 11.0, 11.0, 11.0, 11.0, 11.0, 10.0, 10.0, 10.0, 10.0, 10.0, 10.0, 9.0, 9.0, 9.0, 8.0, 8.0, 8.0, 8.0, 8.0, 8.0, 7.0, 7.0, 7.0, 7.0, 6.0, 6.0, 6.0, 6.0, 5.0, 5.0, 5.0, 5.0, 5.0, 5.0, 5.0, 4.0, 4.0, 4.0, 4.0, 3.0, 3.0, 3.0, 3.0, 3.0, 3.0, 3.0, 3.0, 3.0, 3.0, 2.0, 2.0, 2.0, 2.0, 2.0, 2.0, 2.0, 2.0, 1.0, 1.0, 1.0, 1.0, 1.0, 1.0, 1.0, 1.0, 1.0, 1.0, 1.0, 1.0, 1.0, 1.0, 1.0, 1.0, 1.0, 1.0, 1.0, 1.0, 1.0, 1.0, 1.0, 1.0, 1.0, 1.0, 1.0, 1.0], \"textposition\": \"outside\", \"type\": \"bar\", \"x\": [\"1 Season\", \"88 min\", \"98 min\", \"101 min\", \"93 min\", \"91 min\", \"106 min\", \"97 min\", \"99 min\", \"96 min\", \"112 min\", \"104 min\", \"94 min\", \"100 min\", \"119 min\", \"105 min\", \"111 min\", \"90 min\", \"118 min\", \"110 min\", \"108 min\", \"123 min\", \"109 min\", \"107 min\", \"95 min\", \"117 min\", \"92 min\", \"102 min\", \"103 min\", \"2 Seasons\", \"89 min\", \"121 min\", \"85 min\", \"113 min\", \"116 min\", \"86 min\", \"3 Seasons\", \"128 min\", \"87 min\", \"133 min\", \"126 min\", \"122 min\", \"120 min\", \"127 min\", \"139 min\", \"82 min\", \"114 min\", \"138 min\", \"83 min\", \"130 min\", \"137 min\", \"158 min\", \"129 min\", \"115 min\", \"134 min\", \"136 min\", \"155 min\", \"84 min\", \"140 min\", \"154 min\", \"124 min\", \"141 min\", \"147 min\", \"143 min\", \"81 min\", \"153 min\", \"148 min\", \"131 min\", \"168 min\", \"145 min\", \"125 min\", \"132 min\", \"135 min\", \"165 min\", \"176 min\", \"151 min\", \"163 min\", \"144 min\", \"66 min\", \"146 min\", \"201 min\", \"179 min\", \"191 min\", \"5 Seasons\", \"167 min\", \"142 min\", \"195 min\", \"200 min\", \"75 min\", \"78 min\", \"159 min\", \"172 min\", \"79 min\", \"181 min\", \"149 min\", \"77 min\", \"189 min\", \"45 min\", \"80 min\", \"150 min\", \"4 Seasons\"], \"y\": [32, 20, 19, 18, 16, 15, 15, 15, 15, 14, 13, 12, 12, 12, 12, 11, 11, 11, 11, 11, 11, 10, 10, 10, 10, 10, 10, 9, 9, 9, 8, 8, 8, 8, 8, 8, 7, 7, 7, 7, 6, 6, 6, 6, 5, 5, 5, 5, 5, 5, 5, 4, 4, 4, 4, 3, 3, 3, 3, 3, 3, 3, 3, 3, 3, 2, 2, 2, 2, 2, 2, 2, 2, 1, 1, 1, 1, 1, 1, 1, 1, 1, 1, 1, 1, 1, 1, 1, 1, 1, 1, 1, 1, 1, 1, 1, 1, 1, 1, 1, 1]}],                        {\"template\": {\"data\": {\"bar\": [{\"error_x\": {\"color\": \"#2a3f5f\"}, \"error_y\": {\"color\": \"#2a3f5f\"}, \"marker\": {\"line\": {\"color\": \"#E5ECF6\", \"width\": 0.5}}, \"type\": \"bar\"}], \"barpolar\": [{\"marker\": {\"line\": {\"color\": \"#E5ECF6\", \"width\": 0.5}}, \"type\": \"barpolar\"}], \"carpet\": [{\"aaxis\": {\"endlinecolor\": \"#2a3f5f\", \"gridcolor\": \"white\", \"linecolor\": \"white\", \"minorgridcolor\": \"white\", \"startlinecolor\": \"#2a3f5f\"}, \"baxis\": {\"endlinecolor\": \"#2a3f5f\", \"gridcolor\": \"white\", \"linecolor\": \"white\", \"minorgridcolor\": \"white\", \"startlinecolor\": \"#2a3f5f\"}, \"type\": \"carpet\"}], \"choropleth\": [{\"colorbar\": {\"outlinewidth\": 0, \"ticks\": \"\"}, \"type\": \"choropleth\"}], \"contour\": [{\"colorbar\": {\"outlinewidth\": 0, \"ticks\": \"\"}, \"colorscale\": [[0.0, \"#0d0887\"], [0.1111111111111111, \"#46039f\"], [0.2222222222222222, \"#7201a8\"], [0.3333333333333333, \"#9c179e\"], [0.4444444444444444, \"#bd3786\"], [0.5555555555555556, \"#d8576b\"], [0.6666666666666666, \"#ed7953\"], [0.7777777777777778, \"#fb9f3a\"], [0.8888888888888888, \"#fdca26\"], [1.0, \"#f0f921\"]], \"type\": \"contour\"}], \"contourcarpet\": [{\"colorbar\": {\"outlinewidth\": 0, \"ticks\": \"\"}, \"type\": \"contourcarpet\"}], \"heatmap\": [{\"colorbar\": {\"outlinewidth\": 0, \"ticks\": \"\"}, \"colorscale\": [[0.0, \"#0d0887\"], [0.1111111111111111, \"#46039f\"], [0.2222222222222222, \"#7201a8\"], [0.3333333333333333, \"#9c179e\"], [0.4444444444444444, \"#bd3786\"], [0.5555555555555556, \"#d8576b\"], [0.6666666666666666, \"#ed7953\"], [0.7777777777777778, \"#fb9f3a\"], [0.8888888888888888, \"#fdca26\"], [1.0, \"#f0f921\"]], \"type\": \"heatmap\"}], \"heatmapgl\": [{\"colorbar\": {\"outlinewidth\": 0, \"ticks\": \"\"}, \"colorscale\": [[0.0, \"#0d0887\"], [0.1111111111111111, \"#46039f\"], [0.2222222222222222, \"#7201a8\"], [0.3333333333333333, \"#9c179e\"], [0.4444444444444444, \"#bd3786\"], [0.5555555555555556, \"#d8576b\"], [0.6666666666666666, \"#ed7953\"], [0.7777777777777778, \"#fb9f3a\"], [0.8888888888888888, \"#fdca26\"], [1.0, \"#f0f921\"]], \"type\": \"heatmapgl\"}], \"histogram\": [{\"marker\": {\"colorbar\": {\"outlinewidth\": 0, \"ticks\": \"\"}}, \"type\": \"histogram\"}], \"histogram2d\": [{\"colorbar\": {\"outlinewidth\": 0, \"ticks\": \"\"}, \"colorscale\": [[0.0, \"#0d0887\"], [0.1111111111111111, \"#46039f\"], [0.2222222222222222, \"#7201a8\"], [0.3333333333333333, \"#9c179e\"], [0.4444444444444444, \"#bd3786\"], [0.5555555555555556, \"#d8576b\"], [0.6666666666666666, \"#ed7953\"], [0.7777777777777778, \"#fb9f3a\"], [0.8888888888888888, \"#fdca26\"], [1.0, \"#f0f921\"]], \"type\": \"histogram2d\"}], \"histogram2dcontour\": [{\"colorbar\": {\"outlinewidth\": 0, \"ticks\": \"\"}, \"colorscale\": [[0.0, \"#0d0887\"], [0.1111111111111111, \"#46039f\"], [0.2222222222222222, \"#7201a8\"], [0.3333333333333333, \"#9c179e\"], [0.4444444444444444, \"#bd3786\"], [0.5555555555555556, \"#d8576b\"], [0.6666666666666666, \"#ed7953\"], [0.7777777777777778, \"#fb9f3a\"], [0.8888888888888888, \"#fdca26\"], [1.0, \"#f0f921\"]], \"type\": \"histogram2dcontour\"}], \"mesh3d\": [{\"colorbar\": {\"outlinewidth\": 0, \"ticks\": \"\"}, \"type\": \"mesh3d\"}], \"parcoords\": [{\"line\": {\"colorbar\": {\"outlinewidth\": 0, \"ticks\": \"\"}}, \"type\": \"parcoords\"}], \"pie\": [{\"automargin\": true, \"type\": \"pie\"}], \"scatter\": [{\"marker\": {\"colorbar\": {\"outlinewidth\": 0, \"ticks\": \"\"}}, \"type\": \"scatter\"}], \"scatter3d\": [{\"line\": {\"colorbar\": {\"outlinewidth\": 0, \"ticks\": \"\"}}, \"marker\": {\"colorbar\": {\"outlinewidth\": 0, \"ticks\": \"\"}}, \"type\": \"scatter3d\"}], \"scattercarpet\": [{\"marker\": {\"colorbar\": {\"outlinewidth\": 0, \"ticks\": \"\"}}, \"type\": \"scattercarpet\"}], \"scattergeo\": [{\"marker\": {\"colorbar\": {\"outlinewidth\": 0, \"ticks\": \"\"}}, \"type\": \"scattergeo\"}], \"scattergl\": [{\"marker\": {\"colorbar\": {\"outlinewidth\": 0, \"ticks\": \"\"}}, \"type\": \"scattergl\"}], \"scattermapbox\": [{\"marker\": {\"colorbar\": {\"outlinewidth\": 0, \"ticks\": \"\"}}, \"type\": \"scattermapbox\"}], \"scatterpolar\": [{\"marker\": {\"colorbar\": {\"outlinewidth\": 0, \"ticks\": \"\"}}, \"type\": \"scatterpolar\"}], \"scatterpolargl\": [{\"marker\": {\"colorbar\": {\"outlinewidth\": 0, \"ticks\": \"\"}}, \"type\": \"scatterpolargl\"}], \"scatterternary\": [{\"marker\": {\"colorbar\": {\"outlinewidth\": 0, \"ticks\": \"\"}}, \"type\": \"scatterternary\"}], \"surface\": [{\"colorbar\": {\"outlinewidth\": 0, \"ticks\": \"\"}, \"colorscale\": [[0.0, \"#0d0887\"], [0.1111111111111111, \"#46039f\"], [0.2222222222222222, \"#7201a8\"], [0.3333333333333333, \"#9c179e\"], [0.4444444444444444, \"#bd3786\"], [0.5555555555555556, \"#d8576b\"], [0.6666666666666666, \"#ed7953\"], [0.7777777777777778, \"#fb9f3a\"], [0.8888888888888888, \"#fdca26\"], [1.0, \"#f0f921\"]], \"type\": \"surface\"}], \"table\": [{\"cells\": {\"fill\": {\"color\": \"#EBF0F8\"}, \"line\": {\"color\": \"white\"}}, \"header\": {\"fill\": {\"color\": \"#C8D4E3\"}, \"line\": {\"color\": \"white\"}}, \"type\": \"table\"}]}, \"layout\": {\"annotationdefaults\": {\"arrowcolor\": \"#2a3f5f\", \"arrowhead\": 0, \"arrowwidth\": 1}, \"autotypenumbers\": \"strict\", \"coloraxis\": {\"colorbar\": {\"outlinewidth\": 0, \"ticks\": \"\"}}, \"colorscale\": {\"diverging\": [[0, \"#8e0152\"], [0.1, \"#c51b7d\"], [0.2, \"#de77ae\"], [0.3, \"#f1b6da\"], [0.4, \"#fde0ef\"], [0.5, \"#f7f7f7\"], [0.6, \"#e6f5d0\"], [0.7, \"#b8e186\"], [0.8, \"#7fbc41\"], [0.9, \"#4d9221\"], [1, \"#276419\"]], \"sequential\": [[0.0, \"#0d0887\"], [0.1111111111111111, \"#46039f\"], [0.2222222222222222, \"#7201a8\"], [0.3333333333333333, \"#9c179e\"], [0.4444444444444444, \"#bd3786\"], [0.5555555555555556, \"#d8576b\"], [0.6666666666666666, \"#ed7953\"], [0.7777777777777778, \"#fb9f3a\"], [0.8888888888888888, \"#fdca26\"], [1.0, \"#f0f921\"]], \"sequentialminus\": [[0.0, \"#0d0887\"], [0.1111111111111111, \"#46039f\"], [0.2222222222222222, \"#7201a8\"], [0.3333333333333333, \"#9c179e\"], [0.4444444444444444, \"#bd3786\"], [0.5555555555555556, \"#d8576b\"], [0.6666666666666666, \"#ed7953\"], [0.7777777777777778, \"#fb9f3a\"], [0.8888888888888888, \"#fdca26\"], [1.0, \"#f0f921\"]]}, \"colorway\": [\"#636efa\", \"#EF553B\", \"#00cc96\", \"#ab63fa\", \"#FFA15A\", \"#19d3f3\", \"#FF6692\", \"#B6E880\", \"#FF97FF\", \"#FECB52\"], \"font\": {\"color\": \"#2a3f5f\"}, \"geo\": {\"bgcolor\": \"white\", \"lakecolor\": \"white\", \"landcolor\": \"#E5ECF6\", \"showlakes\": true, \"showland\": true, \"subunitcolor\": \"white\"}, \"hoverlabel\": {\"align\": \"left\"}, \"hovermode\": \"closest\", \"mapbox\": {\"style\": \"light\"}, \"paper_bgcolor\": \"white\", \"plot_bgcolor\": \"#E5ECF6\", \"polar\": {\"angularaxis\": {\"gridcolor\": \"white\", \"linecolor\": \"white\", \"ticks\": \"\"}, \"bgcolor\": \"#E5ECF6\", \"radialaxis\": {\"gridcolor\": \"white\", \"linecolor\": \"white\", \"ticks\": \"\"}}, \"scene\": {\"xaxis\": {\"backgroundcolor\": \"#E5ECF6\", \"gridcolor\": \"white\", \"gridwidth\": 2, \"linecolor\": \"white\", \"showbackground\": true, \"ticks\": \"\", \"zerolinecolor\": \"white\"}, \"yaxis\": {\"backgroundcolor\": \"#E5ECF6\", \"gridcolor\": \"white\", \"gridwidth\": 2, \"linecolor\": \"white\", \"showbackground\": true, \"ticks\": \"\", \"zerolinecolor\": \"white\"}, \"zaxis\": {\"backgroundcolor\": \"#E5ECF6\", \"gridcolor\": \"white\", \"gridwidth\": 2, \"linecolor\": \"white\", \"showbackground\": true, \"ticks\": \"\", \"zerolinecolor\": \"white\"}}, \"shapedefaults\": {\"line\": {\"color\": \"#2a3f5f\"}}, \"ternary\": {\"aaxis\": {\"gridcolor\": \"white\", \"linecolor\": \"white\", \"ticks\": \"\"}, \"baxis\": {\"gridcolor\": \"white\", \"linecolor\": \"white\", \"ticks\": \"\"}, \"bgcolor\": \"#E5ECF6\", \"caxis\": {\"gridcolor\": \"white\", \"linecolor\": \"white\", \"ticks\": \"\"}}, \"title\": {\"x\": 0.05}, \"xaxis\": {\"automargin\": true, \"gridcolor\": \"white\", \"linecolor\": \"white\", \"ticks\": \"\", \"title\": {\"standoff\": 15}, \"zerolinecolor\": \"white\", \"zerolinewidth\": 2}, \"yaxis\": {\"automargin\": true, \"gridcolor\": \"white\", \"linecolor\": \"white\", \"ticks\": \"\", \"title\": {\"standoff\": 15}, \"zerolinecolor\": \"white\", \"zerolinewidth\": 2}}}, \"title\": {\"text\": \"\\ub137\\ud50c\\ub9ad\\uc2a4 \\ucee8\\ud150\\uce20 \\uc0c1\\uc601\\uc2dc\\uac04 \\ubd84\\ud3ec\\ub3c4\"}, \"xaxis\": {\"categoryorder\": \"total descending\"}},                        {\"responsive\": true}                    ).then(function(){\n",
       "                            \n",
       "var gd = document.getElementById('11a87d63-c5e5-4986-b45d-389f887aaa02');\n",
       "var x = new MutationObserver(function (mutations, observer) {{\n",
       "        var display = window.getComputedStyle(gd).display;\n",
       "        if (!display || display === 'none') {{\n",
       "            console.log([gd, 'removed!']);\n",
       "            Plotly.purge(gd);\n",
       "            observer.disconnect();\n",
       "        }}\n",
       "}});\n",
       "\n",
       "// Listen for the removal of the full notebook cells\n",
       "var notebookContainer = gd.closest('#notebook-container');\n",
       "if (notebookContainer) {{\n",
       "    x.observe(notebookContainer, {childList: true});\n",
       "}}\n",
       "\n",
       "// Listen for the clearing of the current output cell\n",
       "var outputEl = gd.closest('.output');\n",
       "if (outputEl) {{\n",
       "    x.observe(outputEl, {childList: true});\n",
       "}}\n",
       "\n",
       "                        })                };                });            </script>        </div>"
      ]
     },
     "metadata": {},
     "output_type": "display_data"
    }
   ],
   "source": [
    "colors = ['lightslategray']\n",
    "colors[0] = 'crimson'\n",
    "\n",
    "content_dur = pd.value_counts(netflix_tmdb_merge['duration'])\n",
    "fig = go.Figure([go.Bar(x=content_dur.index, y=content_dur.values,\n",
    "                        text=content_dur.values, marker_color=colors)])\n",
    "fig.update_traces(textposition='outside')\n",
    "fig.update_layout(title='넷플릭스 컨텐츠 상영시간 분포도', xaxis={'categoryorder':'total descending'})\n",
    "\n",
    "fig.show()"
   ]
  },
  {
   "cell_type": "markdown",
   "id": "23111a8e",
   "metadata": {
    "id": "Q0oScBmrVjp8"
   },
   "source": [
    "데이터가 적어서 속단하기 이르지만, 넷플릭스에 있는 컨텐츠 대부분이 2시간(120분) 내외로 끝나는 것을 알 수 있었다."
   ]
  },
  {
   "cell_type": "markdown",
   "id": "5ddbc104",
   "metadata": {
    "id": "HeOQap9BVjp9"
   },
   "source": [
    "### 2.5 IMDb 데이터셋 추가 후 평점 비교\n",
    "\n",
    "Kaggle에는 [IMDb 데이터셋(IMDb movies extensive dataset)](https://www.kaggle.com/stefanoleone992/imdb-extensive-dataset)과 [TMDb 데이터셋(TMDb 5000 Movie Dataset)](https://www.kaggle.com/stefanoleone992/imdb-extensive-dataset)가 있는데 양쪽 모두 영화 및 TV 프로그램에 대해 평점 데이터를 제공한다.\n",
    "\n",
    "여기서 굳이 IMDb 데이터셋을 활용하는 이유는 TMDb의 경우에는 '좋은 평가'와 '좋지 않은 평가'를 투표한 사람을 퍼센트 단위로 표현하는데, IMDb는 평점을 수치화(0~10점)하기 때문에 객관적이며 보다 좋은 시각화 결과를 얻을 수 있을 것 같아서이다."
   ]
  },
  {
   "cell_type": "markdown",
   "id": "da7968d3",
   "metadata": {
    "id": "04aeIREsVjp-"
   },
   "source": [
    "'IMDb movies extensive dataset'에는 <u>평점을 데이터로 분리한 데이터셋(IMDb ratings.csv)</u>과 <u>영화 정보 데이터를 분리한 데이터셋(IMDb movies.csv)</u>, 그리고 <u>배우 정보를 데이터로 분리한 데이터셋(IMDb names.csv)</u>으로 구분되어 있다.\n",
    "\n",
    "우리가 해야할 것은 기존 넷플릭스 대한민국에 등록되어있는 데이터들을 기반으로 평점을 매겨야 하기 때문에 \"IMDb ratings.csv\" 파일과 \"IMDb movies.csv\" 파일을 불러온 후 시각화 작업을 하도록 한다."
   ]
  },
  {
   "cell_type": "code",
   "execution_count": 11,
   "id": "171e9a06",
   "metadata": {
    "colab": {
     "base_uri": "https://localhost:8080/"
    },
    "executionInfo": {
     "elapsed": 2667,
     "status": "ok",
     "timestamp": 1617602922355,
     "user": {
      "displayName": "Kamil Lee",
      "photoUrl": "https://lh3.googleusercontent.com/a-/AOh14GhtVq0rjLCBgtoAYi4HWKjjXq8fzIB4XpPNu6NQbw=s64",
      "userId": "14237530861062268164"
     },
     "user_tz": -540
    },
    "id": "fejLKDQWVjp-",
    "outputId": "19bc1310-54af-413c-e3ed-f5883d3dfc1b"
   },
   "outputs": [
    {
     "name": "stdout",
     "output_type": "stream",
     "text": [
      "(85855, 1)\n"
     ]
    }
   ],
   "source": [
    "imdb_rate = pd.read_csv('dataset/IMDb ratings.csv', usecols=['weighted_average_vote'],\n",
    "                        encoding='utf-8', engine='python')\n",
    "print(imdb_rate.shape)"
   ]
  },
  {
   "cell_type": "code",
   "execution_count": 12,
   "id": "0b0662fd",
   "metadata": {
    "colab": {
     "base_uri": "https://localhost:8080/"
    },
    "executionInfo": {
     "elapsed": 2667,
     "status": "ok",
     "timestamp": 1617602922355,
     "user": {
      "displayName": "Kamil Lee",
      "photoUrl": "https://lh3.googleusercontent.com/a-/AOh14GhtVq0rjLCBgtoAYi4HWKjjXq8fzIB4XpPNu6NQbw=s64",
      "userId": "14237530861062268164"
     },
     "user_tz": -540
    },
    "id": "fejLKDQWVjp-",
    "outputId": "19bc1310-54af-413c-e3ed-f5883d3dfc1b"
   },
   "outputs": [
    {
     "name": "stdout",
     "output_type": "stream",
     "text": [
      "(85855, 3)\n"
     ]
    }
   ],
   "source": [
    "imdb_title = pd.read_csv('dataset/IMDb movies.csv', usecols=['title', 'year', 'genre'],\n",
    "                         encoding='utf-8', engine='python')\n",
    "print(imdb_title.shape)"
   ]
  },
  {
   "cell_type": "code",
   "execution_count": 13,
   "id": "5ddbeb72",
   "metadata": {
    "colab": {
     "base_uri": "https://localhost:8080/"
    },
    "executionInfo": {
     "elapsed": 2504,
     "status": "ok",
     "timestamp": 1617602922356,
     "user": {
      "displayName": "Kamil Lee",
      "photoUrl": "https://lh3.googleusercontent.com/a-/AOh14GhtVq0rjLCBgtoAYi4HWKjjXq8fzIB4XpPNu6NQbw=s64",
      "userId": "14237530861062268164"
     },
     "user_tz": -540
    },
    "id": "qctaf04-Vjp_",
    "outputId": "5697c0cd-1fe3-45f5-9cf4-86645fe9a91d"
   },
   "outputs": [
    {
     "name": "stdout",
     "output_type": "stream",
     "text": [
      "(85852, 4)\n"
     ]
    }
   ],
   "source": [
    "# 위의 두 csv 파일을 pandas의 DataFrame 형태로 병합\n",
    "rating_df = pd.DataFrame({'Title':imdb_title.title,\n",
    "                          'Genre':imdb_title.genre,\n",
    "                          'Release Year':imdb_title.year,\n",
    "                          'Rating':imdb_rate.weighted_average_vote})\n",
    "rating_df.drop_duplicates(subset=['Title', 'Rating', 'Release Year'], inplace=True)\n",
    "print(rating_df.shape)"
   ]
  },
  {
   "cell_type": "markdown",
   "id": "3888c035",
   "metadata": {
    "id": "pHAfT70xVjp_"
   },
   "source": [
    "#### 2.5.1 넷플릭스 컨텐츠 평점 시각화\n",
    "\n",
    "`IMDB rating` 데이터셋과 `netflix_tmdb_merge` 데이터셋을 내부 조인(Inner Join)한다."
   ]
  },
  {
   "cell_type": "code",
   "execution_count": 14,
   "id": "c3516a38",
   "metadata": {
    "executionInfo": {
     "elapsed": 1514,
     "status": "ok",
     "timestamp": 1617602922357,
     "user": {
      "displayName": "Kamil Lee",
      "photoUrl": "https://lh3.googleusercontent.com/a-/AOh14GhtVq0rjLCBgtoAYi4HWKjjXq8fzIB4XpPNu6NQbw=s64",
      "userId": "14237530861062268164"
     },
     "user_tz": -540
    },
    "id": "n-5RZNQXVjqA"
   },
   "outputs": [],
   "source": [
    "rating_df.dropna()\n",
    "\n",
    "joint_contents_df = rating_df.merge(netflix_tmdb_merge, left_on='Title', right_on='title', how='inner')\n",
    "joint_contents_df = joint_contents_df.sort_values(by='Rating', ascending=False)"
   ]
  },
  {
   "cell_type": "code",
   "execution_count": 15,
   "id": "22c41e1a",
   "metadata": {
    "colab": {
     "base_uri": "https://localhost:8080/",
     "height": 935
    },
    "executionInfo": {
     "elapsed": 676,
     "status": "ok",
     "timestamp": 1617602922358,
     "user": {
      "displayName": "Kamil Lee",
      "photoUrl": "https://lh3.googleusercontent.com/a-/AOh14GhtVq0rjLCBgtoAYi4HWKjjXq8fzIB4XpPNu6NQbw=s64",
      "userId": "14237530861062268164"
     },
     "user_tz": -540
    },
    "id": "PusMq8sMVjqA",
    "outputId": "7bc0c153-55b0-4a0f-c516-e57633c97550"
   },
   "outputs": [
    {
     "name": "stdout",
     "output_type": "stream",
     "text": [
      "(413, 13)\n"
     ]
    },
    {
     "data": {
      "text/html": [
       "<div>\n",
       "<style scoped>\n",
       "    .dataframe tbody tr th:only-of-type {\n",
       "        vertical-align: middle;\n",
       "    }\n",
       "\n",
       "    .dataframe tbody tr th {\n",
       "        vertical-align: top;\n",
       "    }\n",
       "\n",
       "    .dataframe thead th {\n",
       "        text-align: right;\n",
       "    }\n",
       "</style>\n",
       "<table border=\"1\" class=\"dataframe\">\n",
       "  <thead>\n",
       "    <tr style=\"text-align: right;\">\n",
       "      <th></th>\n",
       "      <th>Title</th>\n",
       "      <th>Genre</th>\n",
       "      <th>Release Year</th>\n",
       "      <th>Rating</th>\n",
       "      <th>type</th>\n",
       "      <th>title</th>\n",
       "      <th>date_added</th>\n",
       "      <th>rating</th>\n",
       "      <th>duration</th>\n",
       "      <th>genres</th>\n",
       "      <th>movie_id</th>\n",
       "      <th>overview</th>\n",
       "      <th>cast</th>\n",
       "    </tr>\n",
       "  </thead>\n",
       "  <tbody>\n",
       "    <tr>\n",
       "      <th>98</th>\n",
       "      <td>Pulp Fiction</td>\n",
       "      <td>Crime, Drama</td>\n",
       "      <td>1994</td>\n",
       "      <td>8.9</td>\n",
       "      <td>Movie</td>\n",
       "      <td>Pulp Fiction</td>\n",
       "      <td>January 1, 2019</td>\n",
       "      <td>R</td>\n",
       "      <td>154 min</td>\n",
       "      <td>['Thriller', 'Crime']</td>\n",
       "      <td>680</td>\n",
       "      <td>A burger-loving hit man, his philosophical par...</td>\n",
       "      <td>['John Travolta', 'Samuel L. Jackson', 'Uma Th...</td>\n",
       "    </tr>\n",
       "    <tr>\n",
       "      <th>95</th>\n",
       "      <td>Schindler's List</td>\n",
       "      <td>Biography, Drama, History</td>\n",
       "      <td>1993</td>\n",
       "      <td>8.9</td>\n",
       "      <td>Movie</td>\n",
       "      <td>Schindler's List</td>\n",
       "      <td>April 1, 2018</td>\n",
       "      <td>R</td>\n",
       "      <td>195 min</td>\n",
       "      <td>['Drama', 'History', 'War']</td>\n",
       "      <td>424</td>\n",
       "      <td>The true story of how businessman Oskar Schind...</td>\n",
       "      <td>['Liam Neeson', 'Ben Kingsley', 'Ralph Fiennes...</td>\n",
       "    </tr>\n",
       "    <tr>\n",
       "      <th>329</th>\n",
       "      <td>Inception</td>\n",
       "      <td>Action, Adventure, Sci-Fi</td>\n",
       "      <td>2010</td>\n",
       "      <td>8.8</td>\n",
       "      <td>Movie</td>\n",
       "      <td>Inception</td>\n",
       "      <td>January 1, 2020</td>\n",
       "      <td>PG-13</td>\n",
       "      <td>148 min</td>\n",
       "      <td>['Action', 'Thriller', 'Science Fiction', 'Mys...</td>\n",
       "      <td>27205</td>\n",
       "      <td>Cobb, a skilled thief who commits corporate es...</td>\n",
       "      <td>['Leonardo DiCaprio', 'Joseph Gordon-Levitt', ...</td>\n",
       "    </tr>\n",
       "    <tr>\n",
       "      <th>387</th>\n",
       "      <td>Much Ado About Nothing</td>\n",
       "      <td>Comedy, Romance</td>\n",
       "      <td>2011</td>\n",
       "      <td>8.6</td>\n",
       "      <td>Movie</td>\n",
       "      <td>Much Ado About Nothing</td>\n",
       "      <td>October 1, 2016</td>\n",
       "      <td>TV-MA</td>\n",
       "      <td>96 min</td>\n",
       "      <td>['Drama', 'Comedy', 'Romance']</td>\n",
       "      <td>11971</td>\n",
       "      <td>In this Shakespearean farce, Hero and her groo...</td>\n",
       "      <td>['Kenneth Branagh', 'Richard Briers', 'Michael...</td>\n",
       "    </tr>\n",
       "    <tr>\n",
       "      <th>134</th>\n",
       "      <td>American History X</td>\n",
       "      <td>Drama</td>\n",
       "      <td>1998</td>\n",
       "      <td>8.5</td>\n",
       "      <td>Movie</td>\n",
       "      <td>American History X</td>\n",
       "      <td>November 1, 2019</td>\n",
       "      <td>R</td>\n",
       "      <td>119 min</td>\n",
       "      <td>['Drama']</td>\n",
       "      <td>73</td>\n",
       "      <td>Derek Vineyard is paroled after serving 3 year...</td>\n",
       "      <td>['Edward Norton', 'Edward Furlong', \"Beverly D...</td>\n",
       "    </tr>\n",
       "  </tbody>\n",
       "</table>\n",
       "</div>"
      ],
      "text/plain": [
       "                      Title                      Genre Release Year  Rating  \\\n",
       "98             Pulp Fiction               Crime, Drama         1994     8.9   \n",
       "95         Schindler's List  Biography, Drama, History         1993     8.9   \n",
       "329               Inception  Action, Adventure, Sci-Fi         2010     8.8   \n",
       "387  Much Ado About Nothing            Comedy, Romance         2011     8.6   \n",
       "134      American History X                      Drama         1998     8.5   \n",
       "\n",
       "      type                   title        date_added rating duration  \\\n",
       "98   Movie            Pulp Fiction   January 1, 2019      R  154 min   \n",
       "95   Movie        Schindler's List     April 1, 2018      R  195 min   \n",
       "329  Movie               Inception   January 1, 2020  PG-13  148 min   \n",
       "387  Movie  Much Ado About Nothing   October 1, 2016  TV-MA   96 min   \n",
       "134  Movie      American History X  November 1, 2019      R  119 min   \n",
       "\n",
       "                                                genres  movie_id  \\\n",
       "98                               ['Thriller', 'Crime']       680   \n",
       "95                         ['Drama', 'History', 'War']       424   \n",
       "329  ['Action', 'Thriller', 'Science Fiction', 'Mys...     27205   \n",
       "387                     ['Drama', 'Comedy', 'Romance']     11971   \n",
       "134                                          ['Drama']        73   \n",
       "\n",
       "                                              overview  \\\n",
       "98   A burger-loving hit man, his philosophical par...   \n",
       "95   The true story of how businessman Oskar Schind...   \n",
       "329  Cobb, a skilled thief who commits corporate es...   \n",
       "387  In this Shakespearean farce, Hero and her groo...   \n",
       "134  Derek Vineyard is paroled after serving 3 year...   \n",
       "\n",
       "                                                  cast  \n",
       "98   ['John Travolta', 'Samuel L. Jackson', 'Uma Th...  \n",
       "95   ['Liam Neeson', 'Ben Kingsley', 'Ralph Fiennes...  \n",
       "329  ['Leonardo DiCaprio', 'Joseph Gordon-Levitt', ...  \n",
       "387  ['Kenneth Branagh', 'Richard Briers', 'Michael...  \n",
       "134  ['Edward Norton', 'Edward Furlong', \"Beverly D...  "
      ]
     },
     "execution_count": 15,
     "metadata": {},
     "output_type": "execute_result"
    }
   ],
   "source": [
    "print(joint_contents_df.shape)\n",
    "joint_contents_df.head()"
   ]
  },
  {
   "cell_type": "code",
   "execution_count": 16,
   "id": "550c0a81",
   "metadata": {
    "colab": {
     "base_uri": "https://localhost:8080/",
     "height": 241
    },
    "executionInfo": {
     "elapsed": 998,
     "status": "error",
     "timestamp": 1617602924349,
     "user": {
      "displayName": "Kamil Lee",
      "photoUrl": "https://lh3.googleusercontent.com/a-/AOh14GhtVq0rjLCBgtoAYi4HWKjjXq8fzIB4XpPNu6NQbw=s64",
      "userId": "14237530861062268164"
     },
     "user_tz": -540
    },
    "id": "pPAlz7FpVjqA",
    "outputId": "28482a80-9df8-4a1c-f633-e40dd3ffa4cf"
   },
   "outputs": [
    {
     "data": {
      "application/vnd.plotly.v1+json": {
       "config": {
        "plotlyServerURL": "https://plot.ly"
       },
       "data": [
        {
         "branchvalues": "total",
         "customdata": [
          [
           8.8
          ],
          [
           8.3
          ],
          [
           8.5
          ],
          [
           8.4
          ],
          [
           8.9
          ],
          [
           8.9
          ],
          [
           8.3
          ],
          [
           8.2
          ],
          [
           8.6
          ],
          [
           8.2
          ],
          [
           8.3
          ],
          [
           8.5
          ],
          [
           8.4
          ],
          [
           8.8
          ],
          [
           8.6
          ],
          [
           8.9
          ],
          [
           8.2
          ],
          [
           8.9
          ],
          [
           8.3
          ],
          [
           8.2
          ]
         ],
         "domain": {
          "x": [
           0,
           1
          ],
          "y": [
           0,
           1
          ]
         },
         "hovertemplate": "labels=%{label}<br>Rating_sum=%{value}<br>parent=%{parent}<br>id=%{id}<br>Rating=%{color}<extra></extra>",
         "ids": [
          "Inception/PG-13",
          "American Beauty/R",
          "American History X/R",
          "Django Unchained/R",
          "Pulp Fiction/R",
          "Schindler's List/R",
          "Taxi Driver/R",
          "Rang De Basanti/TV-14",
          "Much Ado About Nothing/TV-MA",
          "Warrior/TV-MA",
          "American Beauty",
          "American History X",
          "Django Unchained",
          "Inception",
          "Much Ado About Nothing",
          "Pulp Fiction",
          "Rang De Basanti",
          "Schindler's List",
          "Taxi Driver",
          "Warrior"
         ],
         "labels": [
          "PG-13",
          "R",
          "R",
          "R",
          "R",
          "R",
          "R",
          "TV-14",
          "TV-MA",
          "TV-MA",
          "American Beauty",
          "American History X",
          "Django Unchained",
          "Inception",
          "Much Ado About Nothing",
          "Pulp Fiction",
          "Rang De Basanti",
          "Schindler's List",
          "Taxi Driver",
          "Warrior"
         ],
         "marker": {
          "coloraxis": "coloraxis",
          "colors": [
           8.8,
           8.3,
           8.5,
           8.4,
           8.9,
           8.9,
           8.3,
           8.2,
           8.6,
           8.2,
           8.3,
           8.5,
           8.4,
           8.8,
           8.6,
           8.9,
           8.2,
           8.9,
           8.3,
           8.2
          ]
         },
         "name": "",
         "parents": [
          "Inception",
          "American Beauty",
          "American History X",
          "Django Unchained",
          "Pulp Fiction",
          "Schindler's List",
          "Taxi Driver",
          "Rang De Basanti",
          "Much Ado About Nothing",
          "Warrior",
          "",
          "",
          "",
          "",
          "",
          "",
          "",
          "",
          "",
          ""
         ],
         "type": "sunburst",
         "values": [
          8.8,
          8.3,
          8.5,
          8.4,
          8.9,
          8.9,
          8.3,
          8.2,
          8.6,
          8.2,
          8.3,
          8.5,
          8.4,
          8.8,
          8.6,
          8.9,
          8.2,
          8.9,
          8.3,
          8.2
         ]
        }
       ],
       "layout": {
        "autosize": true,
        "coloraxis": {
         "colorbar": {
          "title": {
           "text": "Rating"
          }
         },
         "colorscale": [
          [
           0,
           "#0d0887"
          ],
          [
           0.1111111111111111,
           "#46039f"
          ],
          [
           0.2222222222222222,
           "#7201a8"
          ],
          [
           0.3333333333333333,
           "#9c179e"
          ],
          [
           0.4444444444444444,
           "#bd3786"
          ],
          [
           0.5555555555555556,
           "#d8576b"
          ],
          [
           0.6666666666666666,
           "#ed7953"
          ],
          [
           0.7777777777777778,
           "#fb9f3a"
          ],
          [
           0.8888888888888888,
           "#fdca26"
          ],
          [
           1,
           "#f0f921"
          ]
         ]
        },
        "legend": {
         "tracegroupgap": 0
        },
        "margin": {
         "t": 60
        },
        "template": {
         "data": {
          "bar": [
           {
            "error_x": {
             "color": "#2a3f5f"
            },
            "error_y": {
             "color": "#2a3f5f"
            },
            "marker": {
             "line": {
              "color": "#E5ECF6",
              "width": 0.5
             }
            },
            "type": "bar"
           }
          ],
          "barpolar": [
           {
            "marker": {
             "line": {
              "color": "#E5ECF6",
              "width": 0.5
             }
            },
            "type": "barpolar"
           }
          ],
          "carpet": [
           {
            "aaxis": {
             "endlinecolor": "#2a3f5f",
             "gridcolor": "white",
             "linecolor": "white",
             "minorgridcolor": "white",
             "startlinecolor": "#2a3f5f"
            },
            "baxis": {
             "endlinecolor": "#2a3f5f",
             "gridcolor": "white",
             "linecolor": "white",
             "minorgridcolor": "white",
             "startlinecolor": "#2a3f5f"
            },
            "type": "carpet"
           }
          ],
          "choropleth": [
           {
            "colorbar": {
             "outlinewidth": 0,
             "ticks": ""
            },
            "type": "choropleth"
           }
          ],
          "contour": [
           {
            "colorbar": {
             "outlinewidth": 0,
             "ticks": ""
            },
            "colorscale": [
             [
              0,
              "#0d0887"
             ],
             [
              0.1111111111111111,
              "#46039f"
             ],
             [
              0.2222222222222222,
              "#7201a8"
             ],
             [
              0.3333333333333333,
              "#9c179e"
             ],
             [
              0.4444444444444444,
              "#bd3786"
             ],
             [
              0.5555555555555556,
              "#d8576b"
             ],
             [
              0.6666666666666666,
              "#ed7953"
             ],
             [
              0.7777777777777778,
              "#fb9f3a"
             ],
             [
              0.8888888888888888,
              "#fdca26"
             ],
             [
              1,
              "#f0f921"
             ]
            ],
            "type": "contour"
           }
          ],
          "contourcarpet": [
           {
            "colorbar": {
             "outlinewidth": 0,
             "ticks": ""
            },
            "type": "contourcarpet"
           }
          ],
          "heatmap": [
           {
            "colorbar": {
             "outlinewidth": 0,
             "ticks": ""
            },
            "colorscale": [
             [
              0,
              "#0d0887"
             ],
             [
              0.1111111111111111,
              "#46039f"
             ],
             [
              0.2222222222222222,
              "#7201a8"
             ],
             [
              0.3333333333333333,
              "#9c179e"
             ],
             [
              0.4444444444444444,
              "#bd3786"
             ],
             [
              0.5555555555555556,
              "#d8576b"
             ],
             [
              0.6666666666666666,
              "#ed7953"
             ],
             [
              0.7777777777777778,
              "#fb9f3a"
             ],
             [
              0.8888888888888888,
              "#fdca26"
             ],
             [
              1,
              "#f0f921"
             ]
            ],
            "type": "heatmap"
           }
          ],
          "heatmapgl": [
           {
            "colorbar": {
             "outlinewidth": 0,
             "ticks": ""
            },
            "colorscale": [
             [
              0,
              "#0d0887"
             ],
             [
              0.1111111111111111,
              "#46039f"
             ],
             [
              0.2222222222222222,
              "#7201a8"
             ],
             [
              0.3333333333333333,
              "#9c179e"
             ],
             [
              0.4444444444444444,
              "#bd3786"
             ],
             [
              0.5555555555555556,
              "#d8576b"
             ],
             [
              0.6666666666666666,
              "#ed7953"
             ],
             [
              0.7777777777777778,
              "#fb9f3a"
             ],
             [
              0.8888888888888888,
              "#fdca26"
             ],
             [
              1,
              "#f0f921"
             ]
            ],
            "type": "heatmapgl"
           }
          ],
          "histogram": [
           {
            "marker": {
             "colorbar": {
              "outlinewidth": 0,
              "ticks": ""
             }
            },
            "type": "histogram"
           }
          ],
          "histogram2d": [
           {
            "colorbar": {
             "outlinewidth": 0,
             "ticks": ""
            },
            "colorscale": [
             [
              0,
              "#0d0887"
             ],
             [
              0.1111111111111111,
              "#46039f"
             ],
             [
              0.2222222222222222,
              "#7201a8"
             ],
             [
              0.3333333333333333,
              "#9c179e"
             ],
             [
              0.4444444444444444,
              "#bd3786"
             ],
             [
              0.5555555555555556,
              "#d8576b"
             ],
             [
              0.6666666666666666,
              "#ed7953"
             ],
             [
              0.7777777777777778,
              "#fb9f3a"
             ],
             [
              0.8888888888888888,
              "#fdca26"
             ],
             [
              1,
              "#f0f921"
             ]
            ],
            "type": "histogram2d"
           }
          ],
          "histogram2dcontour": [
           {
            "colorbar": {
             "outlinewidth": 0,
             "ticks": ""
            },
            "colorscale": [
             [
              0,
              "#0d0887"
             ],
             [
              0.1111111111111111,
              "#46039f"
             ],
             [
              0.2222222222222222,
              "#7201a8"
             ],
             [
              0.3333333333333333,
              "#9c179e"
             ],
             [
              0.4444444444444444,
              "#bd3786"
             ],
             [
              0.5555555555555556,
              "#d8576b"
             ],
             [
              0.6666666666666666,
              "#ed7953"
             ],
             [
              0.7777777777777778,
              "#fb9f3a"
             ],
             [
              0.8888888888888888,
              "#fdca26"
             ],
             [
              1,
              "#f0f921"
             ]
            ],
            "type": "histogram2dcontour"
           }
          ],
          "mesh3d": [
           {
            "colorbar": {
             "outlinewidth": 0,
             "ticks": ""
            },
            "type": "mesh3d"
           }
          ],
          "parcoords": [
           {
            "line": {
             "colorbar": {
              "outlinewidth": 0,
              "ticks": ""
             }
            },
            "type": "parcoords"
           }
          ],
          "pie": [
           {
            "automargin": true,
            "type": "pie"
           }
          ],
          "scatter": [
           {
            "marker": {
             "colorbar": {
              "outlinewidth": 0,
              "ticks": ""
             }
            },
            "type": "scatter"
           }
          ],
          "scatter3d": [
           {
            "line": {
             "colorbar": {
              "outlinewidth": 0,
              "ticks": ""
             }
            },
            "marker": {
             "colorbar": {
              "outlinewidth": 0,
              "ticks": ""
             }
            },
            "type": "scatter3d"
           }
          ],
          "scattercarpet": [
           {
            "marker": {
             "colorbar": {
              "outlinewidth": 0,
              "ticks": ""
             }
            },
            "type": "scattercarpet"
           }
          ],
          "scattergeo": [
           {
            "marker": {
             "colorbar": {
              "outlinewidth": 0,
              "ticks": ""
             }
            },
            "type": "scattergeo"
           }
          ],
          "scattergl": [
           {
            "marker": {
             "colorbar": {
              "outlinewidth": 0,
              "ticks": ""
             }
            },
            "type": "scattergl"
           }
          ],
          "scattermapbox": [
           {
            "marker": {
             "colorbar": {
              "outlinewidth": 0,
              "ticks": ""
             }
            },
            "type": "scattermapbox"
           }
          ],
          "scatterpolar": [
           {
            "marker": {
             "colorbar": {
              "outlinewidth": 0,
              "ticks": ""
             }
            },
            "type": "scatterpolar"
           }
          ],
          "scatterpolargl": [
           {
            "marker": {
             "colorbar": {
              "outlinewidth": 0,
              "ticks": ""
             }
            },
            "type": "scatterpolargl"
           }
          ],
          "scatterternary": [
           {
            "marker": {
             "colorbar": {
              "outlinewidth": 0,
              "ticks": ""
             }
            },
            "type": "scatterternary"
           }
          ],
          "surface": [
           {
            "colorbar": {
             "outlinewidth": 0,
             "ticks": ""
            },
            "colorscale": [
             [
              0,
              "#0d0887"
             ],
             [
              0.1111111111111111,
              "#46039f"
             ],
             [
              0.2222222222222222,
              "#7201a8"
             ],
             [
              0.3333333333333333,
              "#9c179e"
             ],
             [
              0.4444444444444444,
              "#bd3786"
             ],
             [
              0.5555555555555556,
              "#d8576b"
             ],
             [
              0.6666666666666666,
              "#ed7953"
             ],
             [
              0.7777777777777778,
              "#fb9f3a"
             ],
             [
              0.8888888888888888,
              "#fdca26"
             ],
             [
              1,
              "#f0f921"
             ]
            ],
            "type": "surface"
           }
          ],
          "table": [
           {
            "cells": {
             "fill": {
              "color": "#EBF0F8"
             },
             "line": {
              "color": "white"
             }
            },
            "header": {
             "fill": {
              "color": "#C8D4E3"
             },
             "line": {
              "color": "white"
             }
            },
            "type": "table"
           }
          ]
         },
         "layout": {
          "annotationdefaults": {
           "arrowcolor": "#2a3f5f",
           "arrowhead": 0,
           "arrowwidth": 1
          },
          "autotypenumbers": "strict",
          "coloraxis": {
           "colorbar": {
            "outlinewidth": 0,
            "ticks": ""
           }
          },
          "colorscale": {
           "diverging": [
            [
             0,
             "#8e0152"
            ],
            [
             0.1,
             "#c51b7d"
            ],
            [
             0.2,
             "#de77ae"
            ],
            [
             0.3,
             "#f1b6da"
            ],
            [
             0.4,
             "#fde0ef"
            ],
            [
             0.5,
             "#f7f7f7"
            ],
            [
             0.6,
             "#e6f5d0"
            ],
            [
             0.7,
             "#b8e186"
            ],
            [
             0.8,
             "#7fbc41"
            ],
            [
             0.9,
             "#4d9221"
            ],
            [
             1,
             "#276419"
            ]
           ],
           "sequential": [
            [
             0,
             "#0d0887"
            ],
            [
             0.1111111111111111,
             "#46039f"
            ],
            [
             0.2222222222222222,
             "#7201a8"
            ],
            [
             0.3333333333333333,
             "#9c179e"
            ],
            [
             0.4444444444444444,
             "#bd3786"
            ],
            [
             0.5555555555555556,
             "#d8576b"
            ],
            [
             0.6666666666666666,
             "#ed7953"
            ],
            [
             0.7777777777777778,
             "#fb9f3a"
            ],
            [
             0.8888888888888888,
             "#fdca26"
            ],
            [
             1,
             "#f0f921"
            ]
           ],
           "sequentialminus": [
            [
             0,
             "#0d0887"
            ],
            [
             0.1111111111111111,
             "#46039f"
            ],
            [
             0.2222222222222222,
             "#7201a8"
            ],
            [
             0.3333333333333333,
             "#9c179e"
            ],
            [
             0.4444444444444444,
             "#bd3786"
            ],
            [
             0.5555555555555556,
             "#d8576b"
            ],
            [
             0.6666666666666666,
             "#ed7953"
            ],
            [
             0.7777777777777778,
             "#fb9f3a"
            ],
            [
             0.8888888888888888,
             "#fdca26"
            ],
            [
             1,
             "#f0f921"
            ]
           ]
          },
          "colorway": [
           "#636efa",
           "#EF553B",
           "#00cc96",
           "#ab63fa",
           "#FFA15A",
           "#19d3f3",
           "#FF6692",
           "#B6E880",
           "#FF97FF",
           "#FECB52"
          ],
          "font": {
           "color": "#2a3f5f"
          },
          "geo": {
           "bgcolor": "white",
           "lakecolor": "white",
           "landcolor": "#E5ECF6",
           "showlakes": true,
           "showland": true,
           "subunitcolor": "white"
          },
          "hoverlabel": {
           "align": "left"
          },
          "hovermode": "closest",
          "mapbox": {
           "style": "light"
          },
          "paper_bgcolor": "white",
          "plot_bgcolor": "#E5ECF6",
          "polar": {
           "angularaxis": {
            "gridcolor": "white",
            "linecolor": "white",
            "ticks": ""
           },
           "bgcolor": "#E5ECF6",
           "radialaxis": {
            "gridcolor": "white",
            "linecolor": "white",
            "ticks": ""
           }
          },
          "scene": {
           "xaxis": {
            "backgroundcolor": "#E5ECF6",
            "gridcolor": "white",
            "gridwidth": 2,
            "linecolor": "white",
            "showbackground": true,
            "ticks": "",
            "zerolinecolor": "white"
           },
           "yaxis": {
            "backgroundcolor": "#E5ECF6",
            "gridcolor": "white",
            "gridwidth": 2,
            "linecolor": "white",
            "showbackground": true,
            "ticks": "",
            "zerolinecolor": "white"
           },
           "zaxis": {
            "backgroundcolor": "#E5ECF6",
            "gridcolor": "white",
            "gridwidth": 2,
            "linecolor": "white",
            "showbackground": true,
            "ticks": "",
            "zerolinecolor": "white"
           }
          },
          "shapedefaults": {
           "line": {
            "color": "#2a3f5f"
           }
          },
          "ternary": {
           "aaxis": {
            "gridcolor": "white",
            "linecolor": "white",
            "ticks": ""
           },
           "baxis": {
            "gridcolor": "white",
            "linecolor": "white",
            "ticks": ""
           },
           "bgcolor": "#E5ECF6",
           "caxis": {
            "gridcolor": "white",
            "linecolor": "white",
            "ticks": ""
           }
          },
          "title": {
           "x": 0.05
          },
          "xaxis": {
           "automargin": true,
           "gridcolor": "white",
           "linecolor": "white",
           "ticks": "",
           "title": {
            "standoff": 15
           },
           "zerolinecolor": "white",
           "zerolinewidth": 2
          },
          "yaxis": {
           "automargin": true,
           "gridcolor": "white",
           "linecolor": "white",
           "ticks": "",
           "title": {
            "standoff": 15
           },
           "zerolinecolor": "white",
           "zerolinewidth": 2
          }
         }
        },
        "title": {
         "text": "IMDb 평점 + 넷플릭스 컨텐츠"
        }
       }
      },
      "image/png": "[encoded data removed]",
      "text/html": [
       "<div>                            <div id=\"69bcfe2d-c38a-4f39-8c6e-cd39e499c4ba\" class=\"plotly-graph-div\" style=\"height:525px; width:100%;\"></div>            <script type=\"text/javascript\">                require([\"plotly\"], function(Plotly) {                    window.PLOTLYENV=window.PLOTLYENV || {};                                    if (document.getElementById(\"69bcfe2d-c38a-4f39-8c6e-cd39e499c4ba\")) {                    Plotly.newPlot(                        \"69bcfe2d-c38a-4f39-8c6e-cd39e499c4ba\",                        [{\"branchvalues\": \"total\", \"customdata\": [[8.8], [8.3], [8.5], [8.4], [8.9], [8.9], [8.3], [8.2], [8.6], [8.2], [8.3], [8.5], [8.4], [8.8], [8.6], [8.9], [8.2], [8.9], [8.3], [8.2]], \"domain\": {\"x\": [0.0, 1.0], \"y\": [0.0, 1.0]}, \"hovertemplate\": \"labels=%{label}<br>Rating_sum=%{value}<br>parent=%{parent}<br>id=%{id}<br>Rating=%{color}<extra></extra>\", \"ids\": [\"Inception/PG-13\", \"American Beauty/R\", \"American History X/R\", \"Django Unchained/R\", \"Pulp Fiction/R\", \"Schindler's List/R\", \"Taxi Driver/R\", \"Rang De Basanti/TV-14\", \"Much Ado About Nothing/TV-MA\", \"Warrior/TV-MA\", \"American Beauty\", \"American History X\", \"Django Unchained\", \"Inception\", \"Much Ado About Nothing\", \"Pulp Fiction\", \"Rang De Basanti\", \"Schindler's List\", \"Taxi Driver\", \"Warrior\"], \"labels\": [\"PG-13\", \"R\", \"R\", \"R\", \"R\", \"R\", \"R\", \"TV-14\", \"TV-MA\", \"TV-MA\", \"American Beauty\", \"American History X\", \"Django Unchained\", \"Inception\", \"Much Ado About Nothing\", \"Pulp Fiction\", \"Rang De Basanti\", \"Schindler's List\", \"Taxi Driver\", \"Warrior\"], \"marker\": {\"coloraxis\": \"coloraxis\", \"colors\": [8.8, 8.3, 8.5, 8.4, 8.9, 8.9, 8.3, 8.2, 8.6, 8.2, 8.3, 8.5, 8.4, 8.8, 8.6, 8.9, 8.2, 8.9, 8.3, 8.2]}, \"name\": \"\", \"parents\": [\"Inception\", \"American Beauty\", \"American History X\", \"Django Unchained\", \"Pulp Fiction\", \"Schindler's List\", \"Taxi Driver\", \"Rang De Basanti\", \"Much Ado About Nothing\", \"Warrior\", \"\", \"\", \"\", \"\", \"\", \"\", \"\", \"\", \"\", \"\"], \"type\": \"sunburst\", \"values\": [8.8, 8.3, 8.5, 8.4, 8.9, 8.9, 8.3, 8.2, 8.6, 8.2, 8.3, 8.5, 8.4, 8.8, 8.6, 8.9, 8.2, 8.9, 8.3, 8.2]}],                        {\"coloraxis\": {\"colorbar\": {\"title\": {\"text\": \"Rating\"}}, \"colorscale\": [[0.0, \"#0d0887\"], [0.1111111111111111, \"#46039f\"], [0.2222222222222222, \"#7201a8\"], [0.3333333333333333, \"#9c179e\"], [0.4444444444444444, \"#bd3786\"], [0.5555555555555556, \"#d8576b\"], [0.6666666666666666, \"#ed7953\"], [0.7777777777777778, \"#fb9f3a\"], [0.8888888888888888, \"#fdca26\"], [1.0, \"#f0f921\"]]}, \"legend\": {\"tracegroupgap\": 0}, \"margin\": {\"t\": 60}, \"template\": {\"data\": {\"bar\": [{\"error_x\": {\"color\": \"#2a3f5f\"}, \"error_y\": {\"color\": \"#2a3f5f\"}, \"marker\": {\"line\": {\"color\": \"#E5ECF6\", \"width\": 0.5}}, \"type\": \"bar\"}], \"barpolar\": [{\"marker\": {\"line\": {\"color\": \"#E5ECF6\", \"width\": 0.5}}, \"type\": \"barpolar\"}], \"carpet\": [{\"aaxis\": {\"endlinecolor\": \"#2a3f5f\", \"gridcolor\": \"white\", \"linecolor\": \"white\", \"minorgridcolor\": \"white\", \"startlinecolor\": \"#2a3f5f\"}, \"baxis\": {\"endlinecolor\": \"#2a3f5f\", \"gridcolor\": \"white\", \"linecolor\": \"white\", \"minorgridcolor\": \"white\", \"startlinecolor\": \"#2a3f5f\"}, \"type\": \"carpet\"}], \"choropleth\": [{\"colorbar\": {\"outlinewidth\": 0, \"ticks\": \"\"}, \"type\": \"choropleth\"}], \"contour\": [{\"colorbar\": {\"outlinewidth\": 0, \"ticks\": \"\"}, \"colorscale\": [[0.0, \"#0d0887\"], [0.1111111111111111, \"#46039f\"], [0.2222222222222222, \"#7201a8\"], [0.3333333333333333, \"#9c179e\"], [0.4444444444444444, \"#bd3786\"], [0.5555555555555556, \"#d8576b\"], [0.6666666666666666, \"#ed7953\"], [0.7777777777777778, \"#fb9f3a\"], [0.8888888888888888, \"#fdca26\"], [1.0, \"#f0f921\"]], \"type\": \"contour\"}], \"contourcarpet\": [{\"colorbar\": {\"outlinewidth\": 0, \"ticks\": \"\"}, \"type\": \"contourcarpet\"}], \"heatmap\": [{\"colorbar\": {\"outlinewidth\": 0, \"ticks\": \"\"}, \"colorscale\": [[0.0, \"#0d0887\"], [0.1111111111111111, \"#46039f\"], [0.2222222222222222, \"#7201a8\"], [0.3333333333333333, \"#9c179e\"], [0.4444444444444444, \"#bd3786\"], [0.5555555555555556, \"#d8576b\"], [0.6666666666666666, \"#ed7953\"], [0.7777777777777778, \"#fb9f3a\"], [0.8888888888888888, \"#fdca26\"], [1.0, \"#f0f921\"]], \"type\": \"heatmap\"}], \"heatmapgl\": [{\"colorbar\": {\"outlinewidth\": 0, \"ticks\": \"\"}, \"colorscale\": [[0.0, \"#0d0887\"], [0.1111111111111111, \"#46039f\"], [0.2222222222222222, \"#7201a8\"], [0.3333333333333333, \"#9c179e\"], [0.4444444444444444, \"#bd3786\"], [0.5555555555555556, \"#d8576b\"], [0.6666666666666666, \"#ed7953\"], [0.7777777777777778, \"#fb9f3a\"], [0.8888888888888888, \"#fdca26\"], [1.0, \"#f0f921\"]], \"type\": \"heatmapgl\"}], \"histogram\": [{\"marker\": {\"colorbar\": {\"outlinewidth\": 0, \"ticks\": \"\"}}, \"type\": \"histogram\"}], \"histogram2d\": [{\"colorbar\": {\"outlinewidth\": 0, \"ticks\": \"\"}, \"colorscale\": [[0.0, \"#0d0887\"], [0.1111111111111111, \"#46039f\"], [0.2222222222222222, \"#7201a8\"], [0.3333333333333333, \"#9c179e\"], [0.4444444444444444, \"#bd3786\"], [0.5555555555555556, \"#d8576b\"], [0.6666666666666666, \"#ed7953\"], [0.7777777777777778, \"#fb9f3a\"], [0.8888888888888888, \"#fdca26\"], [1.0, \"#f0f921\"]], \"type\": \"histogram2d\"}], \"histogram2dcontour\": [{\"colorbar\": {\"outlinewidth\": 0, \"ticks\": \"\"}, \"colorscale\": [[0.0, \"#0d0887\"], [0.1111111111111111, \"#46039f\"], [0.2222222222222222, \"#7201a8\"], [0.3333333333333333, \"#9c179e\"], [0.4444444444444444, \"#bd3786\"], [0.5555555555555556, \"#d8576b\"], [0.6666666666666666, \"#ed7953\"], [0.7777777777777778, \"#fb9f3a\"], [0.8888888888888888, \"#fdca26\"], [1.0, \"#f0f921\"]], \"type\": \"histogram2dcontour\"}], \"mesh3d\": [{\"colorbar\": {\"outlinewidth\": 0, \"ticks\": \"\"}, \"type\": \"mesh3d\"}], \"parcoords\": [{\"line\": {\"colorbar\": {\"outlinewidth\": 0, \"ticks\": \"\"}}, \"type\": \"parcoords\"}], \"pie\": [{\"automargin\": true, \"type\": \"pie\"}], \"scatter\": [{\"marker\": {\"colorbar\": {\"outlinewidth\": 0, \"ticks\": \"\"}}, \"type\": \"scatter\"}], \"scatter3d\": [{\"line\": {\"colorbar\": {\"outlinewidth\": 0, \"ticks\": \"\"}}, \"marker\": {\"colorbar\": {\"outlinewidth\": 0, \"ticks\": \"\"}}, \"type\": \"scatter3d\"}], \"scattercarpet\": [{\"marker\": {\"colorbar\": {\"outlinewidth\": 0, \"ticks\": \"\"}}, \"type\": \"scattercarpet\"}], \"scattergeo\": [{\"marker\": {\"colorbar\": {\"outlinewidth\": 0, \"ticks\": \"\"}}, \"type\": \"scattergeo\"}], \"scattergl\": [{\"marker\": {\"colorbar\": {\"outlinewidth\": 0, \"ticks\": \"\"}}, \"type\": \"scattergl\"}], \"scattermapbox\": [{\"marker\": {\"colorbar\": {\"outlinewidth\": 0, \"ticks\": \"\"}}, \"type\": \"scattermapbox\"}], \"scatterpolar\": [{\"marker\": {\"colorbar\": {\"outlinewidth\": 0, \"ticks\": \"\"}}, \"type\": \"scatterpolar\"}], \"scatterpolargl\": [{\"marker\": {\"colorbar\": {\"outlinewidth\": 0, \"ticks\": \"\"}}, \"type\": \"scatterpolargl\"}], \"scatterternary\": [{\"marker\": {\"colorbar\": {\"outlinewidth\": 0, \"ticks\": \"\"}}, \"type\": \"scatterternary\"}], \"surface\": [{\"colorbar\": {\"outlinewidth\": 0, \"ticks\": \"\"}, \"colorscale\": [[0.0, \"#0d0887\"], [0.1111111111111111, \"#46039f\"], [0.2222222222222222, \"#7201a8\"], [0.3333333333333333, \"#9c179e\"], [0.4444444444444444, \"#bd3786\"], [0.5555555555555556, \"#d8576b\"], [0.6666666666666666, \"#ed7953\"], [0.7777777777777778, \"#fb9f3a\"], [0.8888888888888888, \"#fdca26\"], [1.0, \"#f0f921\"]], \"type\": \"surface\"}], \"table\": [{\"cells\": {\"fill\": {\"color\": \"#EBF0F8\"}, \"line\": {\"color\": \"white\"}}, \"header\": {\"fill\": {\"color\": \"#C8D4E3\"}, \"line\": {\"color\": \"white\"}}, \"type\": \"table\"}]}, \"layout\": {\"annotationdefaults\": {\"arrowcolor\": \"#2a3f5f\", \"arrowhead\": 0, \"arrowwidth\": 1}, \"autotypenumbers\": \"strict\", \"coloraxis\": {\"colorbar\": {\"outlinewidth\": 0, \"ticks\": \"\"}}, \"colorscale\": {\"diverging\": [[0, \"#8e0152\"], [0.1, \"#c51b7d\"], [0.2, \"#de77ae\"], [0.3, \"#f1b6da\"], [0.4, \"#fde0ef\"], [0.5, \"#f7f7f7\"], [0.6, \"#e6f5d0\"], [0.7, \"#b8e186\"], [0.8, \"#7fbc41\"], [0.9, \"#4d9221\"], [1, \"#276419\"]], \"sequential\": [[0.0, \"#0d0887\"], [0.1111111111111111, \"#46039f\"], [0.2222222222222222, \"#7201a8\"], [0.3333333333333333, \"#9c179e\"], [0.4444444444444444, \"#bd3786\"], [0.5555555555555556, \"#d8576b\"], [0.6666666666666666, \"#ed7953\"], [0.7777777777777778, \"#fb9f3a\"], [0.8888888888888888, \"#fdca26\"], [1.0, \"#f0f921\"]], \"sequentialminus\": [[0.0, \"#0d0887\"], [0.1111111111111111, \"#46039f\"], [0.2222222222222222, \"#7201a8\"], [0.3333333333333333, \"#9c179e\"], [0.4444444444444444, \"#bd3786\"], [0.5555555555555556, \"#d8576b\"], [0.6666666666666666, \"#ed7953\"], [0.7777777777777778, \"#fb9f3a\"], [0.8888888888888888, \"#fdca26\"], [1.0, \"#f0f921\"]]}, \"colorway\": [\"#636efa\", \"#EF553B\", \"#00cc96\", \"#ab63fa\", \"#FFA15A\", \"#19d3f3\", \"#FF6692\", \"#B6E880\", \"#FF97FF\", \"#FECB52\"], \"font\": {\"color\": \"#2a3f5f\"}, \"geo\": {\"bgcolor\": \"white\", \"lakecolor\": \"white\", \"landcolor\": \"#E5ECF6\", \"showlakes\": true, \"showland\": true, \"subunitcolor\": \"white\"}, \"hoverlabel\": {\"align\": \"left\"}, \"hovermode\": \"closest\", \"mapbox\": {\"style\": \"light\"}, \"paper_bgcolor\": \"white\", \"plot_bgcolor\": \"#E5ECF6\", \"polar\": {\"angularaxis\": {\"gridcolor\": \"white\", \"linecolor\": \"white\", \"ticks\": \"\"}, \"bgcolor\": \"#E5ECF6\", \"radialaxis\": {\"gridcolor\": \"white\", \"linecolor\": \"white\", \"ticks\": \"\"}}, \"scene\": {\"xaxis\": {\"backgroundcolor\": \"#E5ECF6\", \"gridcolor\": \"white\", \"gridwidth\": 2, \"linecolor\": \"white\", \"showbackground\": true, \"ticks\": \"\", \"zerolinecolor\": \"white\"}, \"yaxis\": {\"backgroundcolor\": \"#E5ECF6\", \"gridcolor\": \"white\", \"gridwidth\": 2, \"linecolor\": \"white\", \"showbackground\": true, \"ticks\": \"\", \"zerolinecolor\": \"white\"}, \"zaxis\": {\"backgroundcolor\": \"#E5ECF6\", \"gridcolor\": \"white\", \"gridwidth\": 2, \"linecolor\": \"white\", \"showbackground\": true, \"ticks\": \"\", \"zerolinecolor\": \"white\"}}, \"shapedefaults\": {\"line\": {\"color\": \"#2a3f5f\"}}, \"ternary\": {\"aaxis\": {\"gridcolor\": \"white\", \"linecolor\": \"white\", \"ticks\": \"\"}, \"baxis\": {\"gridcolor\": \"white\", \"linecolor\": \"white\", \"ticks\": \"\"}, \"bgcolor\": \"#E5ECF6\", \"caxis\": {\"gridcolor\": \"white\", \"linecolor\": \"white\", \"ticks\": \"\"}}, \"title\": {\"x\": 0.05}, \"xaxis\": {\"automargin\": true, \"gridcolor\": \"white\", \"linecolor\": \"white\", \"ticks\": \"\", \"title\": {\"standoff\": 15}, \"zerolinecolor\": \"white\", \"zerolinewidth\": 2}, \"yaxis\": {\"automargin\": true, \"gridcolor\": \"white\", \"linecolor\": \"white\", \"ticks\": \"\", \"title\": {\"standoff\": 15}, \"zerolinecolor\": \"white\", \"zerolinewidth\": 2}}}, \"title\": {\"text\": \"IMDb \\ud3c9\\uc810 + \\ub137\\ud50c\\ub9ad\\uc2a4 \\ucee8\\ud150\\uce20\"}},                        {\"responsive\": true}                    ).then(function(){\n",
       "                            \n",
       "var gd = document.getElementById('69bcfe2d-c38a-4f39-8c6e-cd39e499c4ba');\n",
       "var x = new MutationObserver(function (mutations, observer) {{\n",
       "        var display = window.getComputedStyle(gd).display;\n",
       "        if (!display || display === 'none') {{\n",
       "            console.log([gd, 'removed!']);\n",
       "            Plotly.purge(gd);\n",
       "            observer.disconnect();\n",
       "        }}\n",
       "}});\n",
       "\n",
       "// Listen for the removal of the full notebook cells\n",
       "var notebookContainer = gd.closest('#notebook-container');\n",
       "if (notebookContainer) {{\n",
       "    x.observe(notebookContainer, {childList: true});\n",
       "}}\n",
       "\n",
       "// Listen for the clearing of the current output cell\n",
       "var outputEl = gd.closest('.output');\n",
       "if (outputEl) {{\n",
       "    x.observe(outputEl, {childList: true});\n",
       "}}\n",
       "\n",
       "                        })                };                });            </script>        </div>"
      ]
     },
     "metadata": {},
     "output_type": "display_data"
    }
   ],
   "source": [
    "# IMDb의 평점(Rating) 상위 10개 데이터를 시각화\n",
    "top_10_contents = joint_contents_df[0:10]\n",
    "\n",
    "fig = px.sunburst(top_10_contents, path=['title', 'rating'],\n",
    "                 values='Rating', color='Rating')\n",
    "fig.update_layout(title='IMDb 평점 + 넷플릭스 컨텐츠')\n",
    "\n",
    "fig.show()"
   ]
  },
  {
   "cell_type": "code",
   "execution_count": 17,
   "id": "e1f3c396",
   "metadata": {
    "colab": {
     "base_uri": "https://localhost:8080/",
     "height": 1000
    },
    "executionInfo": {
     "elapsed": 595,
     "status": "ok",
     "timestamp": 1617602925499,
     "user": {
      "displayName": "Kamil Lee",
      "photoUrl": "https://lh3.googleusercontent.com/a-/AOh14GhtVq0rjLCBgtoAYi4HWKjjXq8fzIB4XpPNu6NQbw=s64",
      "userId": "14237530861062268164"
     },
     "user_tz": -540
    },
    "id": "nejyMe6ZVjqB",
    "outputId": "f750242d-a312-46fa-d300-bd9d6241c40b"
   },
   "outputs": [
    {
     "name": "stdout",
     "output_type": "stream",
     "text": [
      "(10, 13)\n"
     ]
    },
    {
     "data": {
      "text/html": [
       "<div>\n",
       "<style scoped>\n",
       "    .dataframe tbody tr th:only-of-type {\n",
       "        vertical-align: middle;\n",
       "    }\n",
       "\n",
       "    .dataframe tbody tr th {\n",
       "        vertical-align: top;\n",
       "    }\n",
       "\n",
       "    .dataframe thead th {\n",
       "        text-align: right;\n",
       "    }\n",
       "</style>\n",
       "<table border=\"1\" class=\"dataframe\">\n",
       "  <thead>\n",
       "    <tr style=\"text-align: right;\">\n",
       "      <th></th>\n",
       "      <th>Title</th>\n",
       "      <th>Genre</th>\n",
       "      <th>Release Year</th>\n",
       "      <th>Rating</th>\n",
       "      <th>type</th>\n",
       "      <th>title</th>\n",
       "      <th>date_added</th>\n",
       "      <th>rating</th>\n",
       "      <th>duration</th>\n",
       "      <th>genres</th>\n",
       "      <th>movie_id</th>\n",
       "      <th>overview</th>\n",
       "      <th>cast</th>\n",
       "    </tr>\n",
       "  </thead>\n",
       "  <tbody>\n",
       "    <tr>\n",
       "      <th>98</th>\n",
       "      <td>Pulp Fiction</td>\n",
       "      <td>Crime, Drama</td>\n",
       "      <td>1994</td>\n",
       "      <td>8.9</td>\n",
       "      <td>Movie</td>\n",
       "      <td>Pulp Fiction</td>\n",
       "      <td>January 1, 2019</td>\n",
       "      <td>R</td>\n",
       "      <td>154 min</td>\n",
       "      <td>['Thriller', 'Crime']</td>\n",
       "      <td>680</td>\n",
       "      <td>A burger-loving hit man, his philosophical par...</td>\n",
       "      <td>['John Travolta', 'Samuel L. Jackson', 'Uma Th...</td>\n",
       "    </tr>\n",
       "    <tr>\n",
       "      <th>95</th>\n",
       "      <td>Schindler's List</td>\n",
       "      <td>Biography, Drama, History</td>\n",
       "      <td>1993</td>\n",
       "      <td>8.9</td>\n",
       "      <td>Movie</td>\n",
       "      <td>Schindler's List</td>\n",
       "      <td>April 1, 2018</td>\n",
       "      <td>R</td>\n",
       "      <td>195 min</td>\n",
       "      <td>['Drama', 'History', 'War']</td>\n",
       "      <td>424</td>\n",
       "      <td>The true story of how businessman Oskar Schind...</td>\n",
       "      <td>['Liam Neeson', 'Ben Kingsley', 'Ralph Fiennes...</td>\n",
       "    </tr>\n",
       "    <tr>\n",
       "      <th>329</th>\n",
       "      <td>Inception</td>\n",
       "      <td>Action, Adventure, Sci-Fi</td>\n",
       "      <td>2010</td>\n",
       "      <td>8.8</td>\n",
       "      <td>Movie</td>\n",
       "      <td>Inception</td>\n",
       "      <td>January 1, 2020</td>\n",
       "      <td>PG-13</td>\n",
       "      <td>148 min</td>\n",
       "      <td>['Action', 'Thriller', 'Science Fiction', 'Mys...</td>\n",
       "      <td>27205</td>\n",
       "      <td>Cobb, a skilled thief who commits corporate es...</td>\n",
       "      <td>['Leonardo DiCaprio', 'Joseph Gordon-Levitt', ...</td>\n",
       "    </tr>\n",
       "    <tr>\n",
       "      <th>387</th>\n",
       "      <td>Much Ado About Nothing</td>\n",
       "      <td>Comedy, Romance</td>\n",
       "      <td>2011</td>\n",
       "      <td>8.6</td>\n",
       "      <td>Movie</td>\n",
       "      <td>Much Ado About Nothing</td>\n",
       "      <td>October 1, 2016</td>\n",
       "      <td>TV-MA</td>\n",
       "      <td>96 min</td>\n",
       "      <td>['Drama', 'Comedy', 'Romance']</td>\n",
       "      <td>11971</td>\n",
       "      <td>In this Shakespearean farce, Hero and her groo...</td>\n",
       "      <td>['Kenneth Branagh', 'Richard Briers', 'Michael...</td>\n",
       "    </tr>\n",
       "    <tr>\n",
       "      <th>134</th>\n",
       "      <td>American History X</td>\n",
       "      <td>Drama</td>\n",
       "      <td>1998</td>\n",
       "      <td>8.5</td>\n",
       "      <td>Movie</td>\n",
       "      <td>American History X</td>\n",
       "      <td>November 1, 2019</td>\n",
       "      <td>R</td>\n",
       "      <td>119 min</td>\n",
       "      <td>['Drama']</td>\n",
       "      <td>73</td>\n",
       "      <td>Derek Vineyard is paroled after serving 3 year...</td>\n",
       "      <td>['Edward Norton', 'Edward Furlong', \"Beverly D...</td>\n",
       "    </tr>\n",
       "    <tr>\n",
       "      <th>360</th>\n",
       "      <td>Django Unchained</td>\n",
       "      <td>Drama, Western</td>\n",
       "      <td>2012</td>\n",
       "      <td>8.4</td>\n",
       "      <td>Movie</td>\n",
       "      <td>Django Unchained</td>\n",
       "      <td>April 25, 2020</td>\n",
       "      <td>R</td>\n",
       "      <td>165 min</td>\n",
       "      <td>['Drama', 'Western']</td>\n",
       "      <td>68718</td>\n",
       "      <td>With the help of a German bounty hunter, a fre...</td>\n",
       "      <td>['Jamie Foxx', 'Christoph Waltz', 'Leonardo Di...</td>\n",
       "    </tr>\n",
       "    <tr>\n",
       "      <th>30</th>\n",
       "      <td>Taxi Driver</td>\n",
       "      <td>Crime, Drama</td>\n",
       "      <td>1976</td>\n",
       "      <td>8.3</td>\n",
       "      <td>Movie</td>\n",
       "      <td>Taxi Driver</td>\n",
       "      <td>April 1, 2020</td>\n",
       "      <td>R</td>\n",
       "      <td>114 min</td>\n",
       "      <td>['Crime', 'Drama']</td>\n",
       "      <td>103</td>\n",
       "      <td>A mentally unstable Vietnam War veteran works ...</td>\n",
       "      <td>['Robert De Niro', 'Cybill Shepherd', 'Harvey ...</td>\n",
       "    </tr>\n",
       "    <tr>\n",
       "      <th>166</th>\n",
       "      <td>American Beauty</td>\n",
       "      <td>Drama</td>\n",
       "      <td>1999</td>\n",
       "      <td>8.3</td>\n",
       "      <td>Movie</td>\n",
       "      <td>American Beauty</td>\n",
       "      <td>January 1, 2020</td>\n",
       "      <td>R</td>\n",
       "      <td>122 min</td>\n",
       "      <td>['Drama']</td>\n",
       "      <td>14</td>\n",
       "      <td>Lester Burnham, a depressed suburban father in...</td>\n",
       "      <td>['Kevin Spacey', 'Annette Bening', 'Thora Birc...</td>\n",
       "    </tr>\n",
       "    <tr>\n",
       "      <th>209</th>\n",
       "      <td>Warrior</td>\n",
       "      <td>Action, Drama, Sport</td>\n",
       "      <td>2011</td>\n",
       "      <td>8.2</td>\n",
       "      <td>TV Show</td>\n",
       "      <td>Warrior</td>\n",
       "      <td>November 13, 2018</td>\n",
       "      <td>TV-MA</td>\n",
       "      <td>1 Season</td>\n",
       "      <td>['Action', 'Drama']</td>\n",
       "      <td>59440</td>\n",
       "      <td>The inspirational story of an estranged family...</td>\n",
       "      <td>['Tom Hardy', 'Jennifer Morrison', 'Nick Nolte...</td>\n",
       "    </tr>\n",
       "    <tr>\n",
       "      <th>247</th>\n",
       "      <td>Rang De Basanti</td>\n",
       "      <td>Comedy, Drama</td>\n",
       "      <td>2006</td>\n",
       "      <td>8.2</td>\n",
       "      <td>Movie</td>\n",
       "      <td>Rang De Basanti</td>\n",
       "      <td>August 2, 2018</td>\n",
       "      <td>TV-14</td>\n",
       "      <td>159 min</td>\n",
       "      <td>['Drama']</td>\n",
       "      <td>7913</td>\n",
       "      <td>A young idealistic English filmmaker, Sue, arr...</td>\n",
       "      <td>['Aamir Khan', 'Soha Ali Khan', 'Alice Patten'...</td>\n",
       "    </tr>\n",
       "  </tbody>\n",
       "</table>\n",
       "</div>"
      ],
      "text/plain": [
       "                      Title                      Genre Release Year  Rating  \\\n",
       "98             Pulp Fiction               Crime, Drama         1994     8.9   \n",
       "95         Schindler's List  Biography, Drama, History         1993     8.9   \n",
       "329               Inception  Action, Adventure, Sci-Fi         2010     8.8   \n",
       "387  Much Ado About Nothing            Comedy, Romance         2011     8.6   \n",
       "134      American History X                      Drama         1998     8.5   \n",
       "360        Django Unchained             Drama, Western         2012     8.4   \n",
       "30              Taxi Driver               Crime, Drama         1976     8.3   \n",
       "166         American Beauty                      Drama         1999     8.3   \n",
       "209                 Warrior       Action, Drama, Sport         2011     8.2   \n",
       "247         Rang De Basanti              Comedy, Drama         2006     8.2   \n",
       "\n",
       "        type                   title         date_added rating  duration  \\\n",
       "98     Movie            Pulp Fiction    January 1, 2019      R   154 min   \n",
       "95     Movie        Schindler's List      April 1, 2018      R   195 min   \n",
       "329    Movie               Inception    January 1, 2020  PG-13   148 min   \n",
       "387    Movie  Much Ado About Nothing    October 1, 2016  TV-MA    96 min   \n",
       "134    Movie      American History X   November 1, 2019      R   119 min   \n",
       "360    Movie        Django Unchained     April 25, 2020      R   165 min   \n",
       "30     Movie             Taxi Driver      April 1, 2020      R   114 min   \n",
       "166    Movie         American Beauty    January 1, 2020      R   122 min   \n",
       "209  TV Show                 Warrior  November 13, 2018  TV-MA  1 Season   \n",
       "247    Movie         Rang De Basanti     August 2, 2018  TV-14   159 min   \n",
       "\n",
       "                                                genres  movie_id  \\\n",
       "98                               ['Thriller', 'Crime']       680   \n",
       "95                         ['Drama', 'History', 'War']       424   \n",
       "329  ['Action', 'Thriller', 'Science Fiction', 'Mys...     27205   \n",
       "387                     ['Drama', 'Comedy', 'Romance']     11971   \n",
       "134                                          ['Drama']        73   \n",
       "360                               ['Drama', 'Western']     68718   \n",
       "30                                  ['Crime', 'Drama']       103   \n",
       "166                                          ['Drama']        14   \n",
       "209                                ['Action', 'Drama']     59440   \n",
       "247                                          ['Drama']      7913   \n",
       "\n",
       "                                              overview  \\\n",
       "98   A burger-loving hit man, his philosophical par...   \n",
       "95   The true story of how businessman Oskar Schind...   \n",
       "329  Cobb, a skilled thief who commits corporate es...   \n",
       "387  In this Shakespearean farce, Hero and her groo...   \n",
       "134  Derek Vineyard is paroled after serving 3 year...   \n",
       "360  With the help of a German bounty hunter, a fre...   \n",
       "30   A mentally unstable Vietnam War veteran works ...   \n",
       "166  Lester Burnham, a depressed suburban father in...   \n",
       "209  The inspirational story of an estranged family...   \n",
       "247  A young idealistic English filmmaker, Sue, arr...   \n",
       "\n",
       "                                                  cast  \n",
       "98   ['John Travolta', 'Samuel L. Jackson', 'Uma Th...  \n",
       "95   ['Liam Neeson', 'Ben Kingsley', 'Ralph Fiennes...  \n",
       "329  ['Leonardo DiCaprio', 'Joseph Gordon-Levitt', ...  \n",
       "387  ['Kenneth Branagh', 'Richard Briers', 'Michael...  \n",
       "134  ['Edward Norton', 'Edward Furlong', \"Beverly D...  \n",
       "360  ['Jamie Foxx', 'Christoph Waltz', 'Leonardo Di...  \n",
       "30   ['Robert De Niro', 'Cybill Shepherd', 'Harvey ...  \n",
       "166  ['Kevin Spacey', 'Annette Bening', 'Thora Birc...  \n",
       "209  ['Tom Hardy', 'Jennifer Morrison', 'Nick Nolte...  \n",
       "247  ['Aamir Khan', 'Soha Ali Khan', 'Alice Patten'...  "
      ]
     },
     "execution_count": 17,
     "metadata": {},
     "output_type": "execute_result"
    }
   ],
   "source": [
    "print(top_10_contents.shape)\n",
    "top_10_contents.head(10)"
   ]
  },
  {
   "cell_type": "markdown",
   "id": "5afc2ac2",
   "metadata": {
    "id": "HdQclqhlVjqC"
   },
   "source": [
    "### 2.6 넷플릭스 컨텐츠의 주요 장르를 WordCloud 형태로 시각화\n",
    "\n",
    "WordCloud를 사용해서 `netflix_tmdb_merge` 데이터셋의 'genres' 컬럼을 추출해서 이를 시각화해 보자."
   ]
  },
  {
   "cell_type": "code",
   "execution_count": 18,
   "id": "90da9e47",
   "metadata": {},
   "outputs": [
    {
     "data": {
      "text/html": [
       "<div>\n",
       "<style scoped>\n",
       "    .dataframe tbody tr th:only-of-type {\n",
       "        vertical-align: middle;\n",
       "    }\n",
       "\n",
       "    .dataframe tbody tr th {\n",
       "        vertical-align: top;\n",
       "    }\n",
       "\n",
       "    .dataframe thead th {\n",
       "        text-align: right;\n",
       "    }\n",
       "</style>\n",
       "<table border=\"1\" class=\"dataframe\">\n",
       "  <thead>\n",
       "    <tr style=\"text-align: right;\">\n",
       "      <th></th>\n",
       "      <th>type</th>\n",
       "      <th>title</th>\n",
       "      <th>date_added</th>\n",
       "      <th>rating</th>\n",
       "      <th>duration</th>\n",
       "      <th>genres</th>\n",
       "      <th>movie_id</th>\n",
       "      <th>overview</th>\n",
       "      <th>cast</th>\n",
       "    </tr>\n",
       "  </thead>\n",
       "  <tbody>\n",
       "    <tr>\n",
       "      <th>0</th>\n",
       "      <td>Movie</td>\n",
       "      <td>9</td>\n",
       "      <td>November 16, 2017</td>\n",
       "      <td>PG-13</td>\n",
       "      <td>80 min</td>\n",
       "      <td>['Action', 'Adventure', 'Animation', 'Science ...</td>\n",
       "      <td>12244</td>\n",
       "      <td>When 9 first comes to life, he finds himself i...</td>\n",
       "      <td>['Christopher Plummer', 'Martin Landau', 'John...</td>\n",
       "    </tr>\n",
       "    <tr>\n",
       "      <th>1</th>\n",
       "      <td>Movie</td>\n",
       "      <td>21</td>\n",
       "      <td>January 1, 2020</td>\n",
       "      <td>PG-13</td>\n",
       "      <td>123 min</td>\n",
       "      <td>['Drama', 'Crime']</td>\n",
       "      <td>8065</td>\n",
       "      <td>Ben Campbell is a young, highly intelligent, s...</td>\n",
       "      <td>['Jim Sturgess', 'Kevin Spacey', 'Kate Boswort...</td>\n",
       "    </tr>\n",
       "    <tr>\n",
       "      <th>2</th>\n",
       "      <td>Movie</td>\n",
       "      <td>Æon Flux</td>\n",
       "      <td>February 1, 2018</td>\n",
       "      <td>PG-13</td>\n",
       "      <td>93 min</td>\n",
       "      <td>['Action', 'Science Fiction']</td>\n",
       "      <td>8202</td>\n",
       "      <td>400 years into the future, disease has wiped o...</td>\n",
       "      <td>['Charlize Theron', 'Marton Csokas', 'Jonny Le...</td>\n",
       "    </tr>\n",
       "    <tr>\n",
       "      <th>3</th>\n",
       "      <td>Movie</td>\n",
       "      <td>16 Blocks</td>\n",
       "      <td>November 1, 2019</td>\n",
       "      <td>PG-13</td>\n",
       "      <td>102 min</td>\n",
       "      <td>['Action', 'Adventure', 'Crime', 'Thriller']</td>\n",
       "      <td>2207</td>\n",
       "      <td>An aging cop is assigned the ordinary task of ...</td>\n",
       "      <td>['Bruce Willis', 'Yasiin Bey', 'David Morse', ...</td>\n",
       "    </tr>\n",
       "    <tr>\n",
       "      <th>4</th>\n",
       "      <td>Movie</td>\n",
       "      <td>17 Again</td>\n",
       "      <td>January 1, 2021</td>\n",
       "      <td>PG-13</td>\n",
       "      <td>102 min</td>\n",
       "      <td>['Comedy']</td>\n",
       "      <td>16996</td>\n",
       "      <td>On the brink of a midlife crisis, 30-something...</td>\n",
       "      <td>['Zac Efron', 'Leslie Mann', 'Matthew Perry', ...</td>\n",
       "    </tr>\n",
       "  </tbody>\n",
       "</table>\n",
       "</div>"
      ],
      "text/plain": [
       "    type      title         date_added rating duration  \\\n",
       "0  Movie          9  November 16, 2017  PG-13   80 min   \n",
       "1  Movie         21    January 1, 2020  PG-13  123 min   \n",
       "2  Movie   Æon Flux   February 1, 2018  PG-13   93 min   \n",
       "3  Movie  16 Blocks   November 1, 2019  PG-13  102 min   \n",
       "4  Movie   17 Again    January 1, 2021  PG-13  102 min   \n",
       "\n",
       "                                              genres  movie_id  \\\n",
       "0  ['Action', 'Adventure', 'Animation', 'Science ...     12244   \n",
       "1                                 ['Drama', 'Crime']      8065   \n",
       "2                      ['Action', 'Science Fiction']      8202   \n",
       "3       ['Action', 'Adventure', 'Crime', 'Thriller']      2207   \n",
       "4                                         ['Comedy']     16996   \n",
       "\n",
       "                                            overview  \\\n",
       "0  When 9 first comes to life, he finds himself i...   \n",
       "1  Ben Campbell is a young, highly intelligent, s...   \n",
       "2  400 years into the future, disease has wiped o...   \n",
       "3  An aging cop is assigned the ordinary task of ...   \n",
       "4  On the brink of a midlife crisis, 30-something...   \n",
       "\n",
       "                                                cast  \n",
       "0  ['Christopher Plummer', 'Martin Landau', 'John...  \n",
       "1  ['Jim Sturgess', 'Kevin Spacey', 'Kate Boswort...  \n",
       "2  ['Charlize Theron', 'Marton Csokas', 'Jonny Le...  \n",
       "3  ['Bruce Willis', 'Yasiin Bey', 'David Morse', ...  \n",
       "4  ['Zac Efron', 'Leslie Mann', 'Matthew Perry', ...  "
      ]
     },
     "execution_count": 18,
     "metadata": {},
     "output_type": "execute_result"
    }
   ],
   "source": [
    "netflix_tmdb_merge.head()"
   ]
  },
  {
   "cell_type": "code",
   "execution_count": 19,
   "id": "e2f9d36c",
   "metadata": {
    "executionInfo": {
     "elapsed": 887,
     "status": "ok",
     "timestamp": 1617602931494,
     "user": {
      "displayName": "Kamil Lee",
      "photoUrl": "https://lh3.googleusercontent.com/a-/AOh14GhtVq0rjLCBgtoAYi4HWKjjXq8fzIB4XpPNu6NQbw=s64",
      "userId": "14237530861062268164"
     },
     "user_tz": -540
    },
    "id": "_79x-uCPVjqD"
   },
   "outputs": [],
   "source": [
    "from collections import Counter\n",
    "\n",
    "contents_genre = list(netflix_tmdb_merge['genres'])\n",
    "cont_genre = []\n",
    "\n",
    "for g in contents_genre:\n",
    "    g = list(g.split(','))\n",
    "    for i in g:\n",
    "        cont_genre.append(i.replace('', ''))\n",
    "\n",
    "mov_gen = Counter(cont_genre)"
   ]
  },
  {
   "cell_type": "code",
   "execution_count": 20,
   "id": "15b75aae",
   "metadata": {
    "colab": {
     "base_uri": "https://localhost:8080/",
     "height": 628
    },
    "executionInfo": {
     "elapsed": 2793,
     "status": "ok",
     "timestamp": 1617602934083,
     "user": {
      "displayName": "Kamil Lee",
      "photoUrl": "https://lh3.googleusercontent.com/a-/AOh14GhtVq0rjLCBgtoAYi4HWKjjXq8fzIB4XpPNu6NQbw=s64",
      "userId": "14237530861062268164"
     },
     "user_tz": -540
    },
    "id": "hE66Bid-VjqD",
    "outputId": "921497f3-66b9-42b5-b821-6910c71c33af"
   },
   "outputs": [
    {
     "data": {
      "image/png": "[encoded data removed]",
      "text/plain": [
       "<Figure size 792x792 with 1 Axes>"
      ]
     },
     "metadata": {},
     "output_type": "display_data"
    }
   ],
   "source": [
    "from wordcloud import WordCloud, STOPWORDS, ImageColorGenerator\n",
    "from PIL import Image\n",
    "\n",
    "text = list(set(cont_genre))\n",
    "plt.rcParams['figure.figsize'] = (11, 11)\n",
    "\n",
    "mask = np.array(Image.open('imgs/black-star1.png'))\n",
    "wc = WordCloud(max_words=1000000, background_color='black', mask=mask).generate(str(text))\n",
    "\n",
    "plt.imshow(wc, interpolation='bilinear')\n",
    "plt.axis('off')\n",
    "\n",
    "plt.show()"
   ]
  }
 ],
 "metadata": {
  "kernelspec": {
   "display_name": "Python 3",
   "language": "python",
   "name": "python3"
  },
  "language_info": {
   "codemirror_mode": {
    "name": "ipython",
    "version": 3
   },
   "file_extension": ".py",
   "mimetype": "text/x-python",
   "name": "python",
   "nbconvert_exporter": "python",
   "pygments_lexer": "ipython3",
   "version": "3.8.5"
  }
 },
 "nbformat": 4,
 "nbformat_minor": 5
}
