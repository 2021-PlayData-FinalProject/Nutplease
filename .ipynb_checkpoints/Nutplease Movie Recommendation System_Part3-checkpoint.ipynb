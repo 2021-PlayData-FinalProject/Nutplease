{
 "cells": [
  {
   "cell_type": "markdown",
   "id": "63d4d944",
   "metadata": {
    "id": "GlCUfxDdVjpl"
   },
   "source": [
    "# 📽넷플릭스 대한민국 분석과 시각화 그리고 추천 시스템 구상"
   ]
  },
  {
   "cell_type": "markdown",
   "id": "049ae08c",
   "metadata": {
    "id": "AHk_PJqBVjpq"
   },
   "source": [
    "## 목표\n",
    "\n",
    "```\n",
    "1. 데이터 분석(EDA)\n",
    "2. 시각화\n",
    "3. 가공된 모델을 기반으로 사용자 컨텐츠 추천 시스템 구현\n",
    "```"
   ]
  },
  {
   "cell_type": "markdown",
   "id": "12b11667",
   "metadata": {},
   "source": [
    "## 3_넷플릭스 장르 속성을 활용한 사용자 컨텐츠 추천 시스템 구축\n",
    "\n",
    "컨텐츠 기반의 필터링은 <u>사용자가 특정 영화를 감상하고 해당 컨텐츠가 마음에 들었으면 해당 컨텐츠와 유사한 속성/특성, 구성 요소 등을 가진 다른 컨텐츠를 추천하는 것이 목적</u>이다.\n",
    "\n",
    "예시를 들자면, 사용자(고객)가 영화 '인셉션(Inception)'를 재밌게 봤다면 영화 '인셉션'의 장르인 \"액션\", \"공상 과학(sci-fi)\", \"판타지\", \"스릴러\"로 높은 평점을 받은 다른 영화를 추천하거나 감독인 '크리스토퍼 놀란'의 다른 영화를 추천하는 방식이다.\n",
    "\n",
    "이처럼 *컨텐츠(또는 서비스/상품 등) 간의 유사성을 판단하는 기준이 컨텐츠 기반 필터링*이다."
   ]
  },
  {
   "cell_type": "code",
   "execution_count": 1,
   "id": "79734d41",
   "metadata": {},
   "outputs": [],
   "source": [
    "import pandas as pd\n",
    "import scipy.sparse as spa\n",
    "\n",
    "from sklearn.feature_extraction.text import CountVectorizer, TfidfVectorizer\n",
    "from sklearn.metrics.pairwise import cosine_similarity"
   ]
  },
  {
   "cell_type": "markdown",
   "id": "1b374374",
   "metadata": {},
   "source": [
    "### 3_1_데이터 로딩 및 가공\n",
    "\n",
    "데이터셋은 Part1_데이터 분석(EDA)에서 가공했던 데이터셋을 기반으로 컨텐츠 기반 필터링을 만들어 보자."
   ]
  },
  {
   "cell_type": "code",
   "execution_count": 2,
   "id": "aa75b607",
   "metadata": {},
   "outputs": [],
   "source": [
    "# 데이터셋 로드 후 'original_title' 컬럼값을 소문자로 변경함\n",
    "def get_data():\n",
    "    netflix_tmdb_data = pd.read_csv('dataset/netflix_tmdb_merge.csv.zip')\n",
    "    netflix_tmdb_data['title'] = netflix_tmdb_data['title'].str.lower()\n",
    "    \n",
    "    return netflix_tmdb_data"
   ]
  },
  {
   "cell_type": "code",
   "execution_count": 6,
   "id": "d57a17c7",
   "metadata": {},
   "outputs": [],
   "source": [
    "# 'cast' 컬럼과 'genres' 컬럼을 'combine' 이라는 컬럼을 새로 생성하고 기존의 컬럼을 drop 시킴\n",
    "def combine_data(data):\n",
    "    comb_data = data.drop(columns=['type', 'title', 'date_added', 'rating', 'duration', 'movie_id', 'overview'])\n",
    "    comb_data['combine'] = comb_data[comb_data.columns[0:2]].apply(lambda x: ','.join(x.dropna().astype(str)), axis=1)\n",
    "    comb_data = comb_data.drop(columns=['cast', 'genres'])\n",
    "       \n",
    "    return comb_data"
   ]
  },
  {
   "cell_type": "markdown",
   "id": "fc4cbbf9",
   "metadata": {},
   "source": [
    "### 3_2_장르('combine') 컬럼으로 컨텐츠 유사도 측정\n",
    "\n",
    "* [<u>`sklearn.feature_extraction.text.CountVectorizer`</u>](https://scikit-learn.org/stable/modules/generated/sklearn.feature_extraction.text.CountVectorizer.html?highlight=countvectorizer#sklearn-feature-extraction-text-countvectorizer)\n",
    "\n",
    "* [<u>`sklearn.feature_extraction.text.TfidfVectorizer`</u>](https://scikit-learn.org/stable/modules/generated/sklearn.feature_extraction.text.TfidfVectorizer.html?highlight=tfidf#sklearn-feature-extraction-text-tfidfvectorizer)\n",
    "\n",
    "* [<u>`scipy.sparse.hstack`</u>](https://docs.scipy.org/doc/scipy/reference/generated/scipy.sparse.hstack.html?highlight=hstack#scipy-sparse-hstack)"
   ]
  },
  {
   "cell_type": "code",
   "execution_count": 7,
   "id": "3d30f65f",
   "metadata": {},
   "outputs": [],
   "source": [
    "'''\n",
    "위의 combine_data()가 반환한 값과 get_data()의 'overview' 컬럼을 가져온 후,\n",
    "각각 CountVectorizer와 TfidfVectorizer를 적용하고 코사인 유사도를 계산함\n",
    "'''\n",
    "def transform_data(data_combine, data_overview):\n",
    "    cnt = CountVectorizer(stop_words='english')\n",
    "    cnt_mtx = cnt.fit_transform(data_combine['combine'])\n",
    "\n",
    "    tfidf = TfidfVectorizer(stop_words='english')\n",
    "    tfidf_mtx = tfidf.fit_transform(data_overview['overview'])\n",
    "\n",
    "    combine_sparse = spa.hstack([cnt_mtx, tfidf_mtx], format='csr')\n",
    "    cosine_sim = cosine_similarity(combine_sparse, combine_sparse)\n",
    "\n",
    "    return cosine_sim"
   ]
  },
  {
   "cell_type": "code",
   "execution_count": 8,
   "id": "91c3ecdd",
   "metadata": {},
   "outputs": [],
   "source": [
    "'''\n",
    "\"title\": 컨텐츠 제목(영화), \"data\": get_data() 리턴값,\n",
    "\"combine\": combine_data() 리턴값, \"transform\": transform_data() 리턴값\n",
    "'''\n",
    "def contents_recommendate(title, data, combine, transform):\n",
    "    indices = pd.Series(data.index, index=data['title'])\n",
    "    index = indices[title]\n",
    "\n",
    "    similarity_scores = list(enumerate(transform[index]))\n",
    "    similarity_scores = sorted(similarity_scores, key=lambda x: x[1], reverse=True)\n",
    "    similarity_scores = similarity_scores[1:11]  # 입력받은 영화와 유사한 Top10 영화를 추출함\n",
    "\n",
    "    content_indices = [i[0] for i in similarity_scores]\n",
    "\n",
    "    content_id = data['movie_id'].iloc[content_indices]\n",
    "    content_title = data['title'].iloc[content_indices]\n",
    "    content_genres = data['genres'].iloc[content_indices]\n",
    "\n",
    "    recommendate_content = pd.DataFrame(columns=['Content_Id', 'Content_Name', 'Genres'])\n",
    "\n",
    "    recommendate_content['Content_Id'] = content_id\n",
    "    recommendate_content['Content_Name'] = content_title\n",
    "    recommendate_content['Genres'] = content_genres\n",
    "\n",
    "    return recommendate_content"
   ]
  },
  {
   "cell_type": "code",
   "execution_count": 9,
   "id": "2bc34e4c",
   "metadata": {},
   "outputs": [],
   "source": [
    "def recommendate_result(content_name):\n",
    "    content_name = content_name.lower()\n",
    "    \n",
    "    find_content = get_data()\n",
    "    combine_result = combine_data(find_content)\n",
    "    transform_result = transform_data(combine_result, find_content)\n",
    "\n",
    "    if content_name not in find_content['title'].unique():\n",
    "        return 'This Content does not exist in the DataBase.'\n",
    "    else:\n",
    "        recommendations = contents_recommendate(content_name, find_content, combine_result, transform_result)\n",
    "        return recommendations.to_dict('records')"
   ]
  },
  {
   "cell_type": "code",
   "execution_count": 10,
   "id": "d2173f3c",
   "metadata": {},
   "outputs": [
    {
     "data": {
      "text/plain": [
       "[{'Content_Id': 81796,\n",
       "  'Content_Name': 'lockout',\n",
       "  'Genres': \"['Action', 'Thriller', 'Science Fiction']\"},\n",
       " {'Content_Id': 1635,\n",
       "  'Content_Name': 'the island',\n",
       "  'Genres': \"['Action', 'Thriller', 'Science Fiction', 'Adventure']\"},\n",
       " {'Content_Id': 12244,\n",
       "  'Content_Name': '9',\n",
       "  'Genres': \"['Action', 'Adventure', 'Animation', 'Science Fiction', 'Thriller']\"},\n",
       " {'Content_Id': 604,\n",
       "  'Content_Name': 'the matrix reloaded',\n",
       "  'Genres': \"['Adventure', 'Action', 'Thriller', 'Science Fiction']\"},\n",
       " {'Content_Id': 9659,\n",
       "  'Content_Name': 'mad max',\n",
       "  'Genres': \"['Adventure', 'Action', 'Thriller', 'Science Fiction']\"},\n",
       " {'Content_Id': 10003,\n",
       "  'Content_Name': 'the saint',\n",
       "  'Genres': \"['Thriller', 'Action', 'Romance', 'Science Fiction', 'Adventure']\"},\n",
       " {'Content_Id': 605,\n",
       "  'Content_Name': 'the matrix revolutions',\n",
       "  'Genres': \"['Adventure', 'Action', 'Thriller', 'Science Fiction']\"},\n",
       " {'Content_Id': 13811,\n",
       "  'Content_Name': 'knowing',\n",
       "  'Genres': \"['Action', 'Adventure', 'Drama', 'Mystery', 'Science Fiction']\"},\n",
       " {'Content_Id': 9920,\n",
       "  'Content_Name': 'ultraviolet',\n",
       "  'Genres': \"['Science Fiction', 'Action', 'Thriller']\"},\n",
       " {'Content_Id': 13475,\n",
       "  'Content_Name': 'star trek',\n",
       "  'Genres': \"['Science Fiction', 'Action', 'Adventure']\"}]"
      ]
     },
     "execution_count": 10,
     "metadata": {},
     "output_type": "execute_result"
    }
   ],
   "source": [
    "recommendate_result('inception')  # 영화 '인셉션'과 유사한 영화 필터링"
   ]
  },
  {
   "cell_type": "code",
   "execution_count": null,
   "id": "cd520de7",
   "metadata": {},
   "outputs": [],
   "source": []
  }
 ],
 "metadata": {
  "kernelspec": {
   "display_name": "Python 3",
   "language": "python",
   "name": "python3"
  },
  "language_info": {
   "codemirror_mode": {
    "name": "ipython",
    "version": 3
   },
   "file_extension": ".py",
   "mimetype": "text/x-python",
   "name": "python",
   "nbconvert_exporter": "python",
   "pygments_lexer": "ipython3",
   "version": "3.8.5"
  }
 },
 "nbformat": 4,
 "nbformat_minor": 5
}
